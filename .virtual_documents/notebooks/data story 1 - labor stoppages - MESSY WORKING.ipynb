# start with imports - this will be mostly EDA
import numpy as np
import pandas as pd
import matplotlib.pyplot as plt
import seaborn as sns
#from ipython.display import display
#pd.options.display.max_columns = None


# import work stoppages annual listing
col_names = ["Year", "StopsBegin", "StopsEffect", "WorkerBegin", "WorkerEffect", "DaysIdle", "DaysIdlePct"]
stoppages = pd.read_csv("annual-listing.csv", header=0, names=col_names)


stoppages.head()








# maybe it will be this easy

stoppages.replace(to_replace="[4]", value=np.nan, inplace=True)
stoppages.replace(to_replace="[5]", value=0.0025, inplace=True)


display(stoppages)





plt.plot(stoppages["Year"], stoppages["StopsBegin"])


plt.plot(stoppages["Year"], stoppages["StopsEffect"])


plt.plot(stoppages["Year"], stoppages["WorkerBegin"])





type(stoppages["WorkerBegin"][0])





stoppages["WorkerBegin"] = pd.Series(map(float, stoppages["WorkerBegin"]))





stoppages["WorkerBegin"] = stoppages["WorkerBegin"].str.replace(",", "")


stoppages.head()





stoppages["DaysIdle"] = stoppages["DaysIdle"].str.replace(",", "")
stoppages.head()


# Now, both of these variables should be mappable to floats, right?

stoppages["WorkerBegin"] = pd.Series(map(float, stoppages["WorkerBegin"]))
stoppages["DaysIdle"] = pd.Series(map(float, stoppages["DaysIdle"]))


type(stoppages["WorkerBegin"][0])


# this should now - after all that! - finally produce the simple line graph I wanted:

plt.plot(stoppages["Year"], stoppages["WorkerBegin"])


plt.plot(stoppages["Year"], stoppages["WorkerEffect"])


plt.plot(stoppages["Year"], stoppages["DaysIdle"])


plt.plot(stoppages["Year"], stoppages["DaysIdlePct"])








union = pd.read_csv("union_repr.csv")


union.head()






union = union.transpose()


union.head()


union.index = union.index.str.replace('Annual ','')



union.index


union.head()





new_columns = ["EmpWorkers", "EmpUnion", "UnionPct", "UnionRepr", "ReprPct", "EmpPrivate", "UnionPrivate", 
               "UnionPrivatePct", "PrivateRepr", "PrivateReprPct", "EmpPublic", "UnionPublic", "UnionPublicPct", 
              "PublicRepr", "PublicReprPct"]



union.columns = new_columns


union.head()


union.drop(union.index[0], inplace=True)


union.head()





t = union["EmpPublic"][0]
t


t = re.sub("\(5\)", "", t)
t


def dropnotes(x):
    return re.sub("\(5\)", "", x)

t = union["EmpPublic"][11]
dropnotes(t)


try1 = [dropnotes(str(x)) for x in union["EmpPublic"]]


try1


list(w)


# ok, per Jeremy's suggestion, let's make a function out of this:
def dropnotes(x):
    return re.sub("\(5\)", "", x)

footnotecols=["EmpPrivate", "UnionPrivate", "UnionPrivatePct", "EmpPublic", "UnionPublic", "UnionPublicPct"]

for col in footnotecols:
    t = list(union[col])
    t = dropnotes(t)
    union[col] = pd.Series(t)



