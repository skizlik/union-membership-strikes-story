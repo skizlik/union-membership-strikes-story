# start with imports - this will be mostly EDA
import numpy as np
import pandas as pd
import matplotlib.pyplot as plt
import seaborn as sns
#from ipython.display import display
#pd.options.display.max_columns = None


# import work stoppages annual listing
col_names = ["Year", "StopsBegin", "StopsEffect", "WorkerBegin", "WorkerEffect", "DaysIdle", "DaysIdlePct"]
stoppages = pd.read_csv("annual-listing.csv", header=0, names=col_names)


stoppages.tail()








# maybe it will be this easy

stoppages.replace(to_replace="[4]", value=np.nan, inplace=True)
stoppages.replace(to_replace="[5]", value=0.0025, inplace=True)


display(stoppages)





plt.plot(stoppages["Year"], stoppages["StopsBegin"])


plt.plot(stoppages["Year"], stoppages["StopsEffect"])


plt.plot(stoppages["Year"], stoppages["WorkerBegin"])





type(stoppages["WorkerBegin"][0])





stoppages["WorkerBegin"] = pd.Series(map(float, stoppages["WorkerBegin"]))





stoppages["WorkerBegin"] = stoppages["WorkerBegin"].str.replace(",", "")


stoppages.head()





stoppages["DaysIdle"] = stoppages["DaysIdle"].str.replace(",", "")
stoppages.head()


# Now, both of these variables should be mappable to floats, right?

stoppages["WorkerBegin"] = pd.Series(map(float, stoppages["WorkerBegin"]))
stoppages["DaysIdle"] = pd.Series(map(float, stoppages["DaysIdle"]))


type(stoppages["WorkerBegin"][0])


# this should now - after all that! - finally produce the simple line graph I wanted:

plt.plot(stoppages["Year"], stoppages["WorkerBegin"])


plt.plot(stoppages["Year"], stoppages["WorkerEffect"])


plt.plot(stoppages["Year"], stoppages["DaysIdle"])


plt.plot(stoppages["Year"], stoppages["DaysIdlePct"])











union = pd.read_csv("union_repr.csv")


union.head()






union = union.transpose()


union.head()


union.index = union.index.str.replace('Annual ','')



union.index


union.head()





new_columns = ["EmpWorkers", "EmpUnion", "UnionPct", "UnionRepr", "ReprPct", "EmpPrivate", "UnionPrivate", 
               "UnionPrivatePct", "PrivateRepr", "PrivateReprPct", "EmpPublic", "UnionPublic", "UnionPublicPct", 
              "PublicRepr", "PublicReprPct"]



union.columns = new_columns


union.drop(union.index[0], inplace=True)


union





import re

def dropnotes(x):
    return re.sub("\(5\)", "", x)


# should work on a string without complication, right?
t = union["EmpPublic"][11]
dropnotes(t)


# after lots of trial and error, a list comprehension worked

try1 = [dropnotes(str(x)) for x in union["EmpPublic"]]


try1


# ok, per Jeremy's suggestion, let's make a function out of this:
def dropnotes(x):
    return re.sub("\(5\)", "", x)

footnotecols=["EmpPrivate", "UnionPrivate", "UnionPrivatePct", "EmpPublic", "UnionPublic", "UnionPublicPct"]

for col in footnotecols:
#    union[col] = pd.Series(map(float, [dropnotes(str(item)) for item in union[col]]))
#    this produced NaN's for some reason
    union[col] = [dropnotes(str(item)) for item in union[col]]


union


for col in union.columns:
    print(type(col[0]))


# ok, so combining the float mapping and the regex function produced NaN's, but applying the regex function by itself 
# using a list comprehension seemed to work just fine - I'll have to convert to floats separately... but why would
# that work any differently at all?

#for col in union.columns:
#    union[col] = pd.Series(map(float, union[col]))







# this may be the easiest approach, as SE suggests:
# union = union.mask(union == '', other=np.nan)
# union.head()
# turned out to fail completely, replaced several columns with NaN's but NOT empty strings





# ok, let's try something entirely different

# union = union.replace(r'^\s*$', np.nan, regex=True)

# this also filled many columns with NaN's - what's going on here?


# let's try this approach:
# union = union.apply(lambda x: x.str.strip()).replace('', np.nan)
# STILL produced weird results:  ALL NaN's in the four affected columns but ALSO
# NaN's for 2000 onward in first five columns for reasons I can't fathom


# this propa gated NaN's for every data value:
#for col in union.columns:
#  union[col] = pd.Series(map(float, union[col]))




# per Jeremy's suggestion:

for col in union.columns:
    union[col] = pd.to_numeric(union[col], errors='coerce')



union


 for col in union.columns: 
    print(type(union[col][0]))





for col in union.columns:
    
    plt.figure(figsize=(10,6))
    plt.plot(union[col])
    plt.xticks(rotation=90)
    plt.title(col)
    plt.show()


# to have them all in the same place, I'm going to do the same thing for the 'stoppages' dataframe

for col in stoppages.columns:
    
    plt.figure(figsize=(10,6))
    plt.plot(stoppages["Year"], stoppages[col])
    plt.xticks(rotation=90)
    plt.title(col)
    plt.show()


# you know, I'd like to compare private vs public union representation
# side by side barcharts by year

for col in vc_list:
    vc = train_data.groupby(col)["Transported"].value_counts()
    X_axis = np.arange(len(vc.index)/2)
    X_axis_list = []
    for i in np.arange(len(vc.index)/2):
        X_axis_list.append(vc.iloc[::2].index[i][0])
    plt.bar(X_axis - 0.2, vc[vc.index.get_level_values('Transported') == False], 0.4, label="Not Transported")
    plt.bar(X_axis + 0.2, vc[vc.index.get_level_values('Transported') == True], 0.4, label="Transported")
    plt.xticks(X_axis, X_axis_list)
    plt.xlabel(col)
    plt.legend()
    plt.show()



X_axis = np.arange(len(union.index))
plt.figure(figsize=(12,7))
plt.title("Private vs Public Sector Union Membershp")
plt.bar(X_axis - 0.2, union["UnionPrivate"], 0.4, label="Private")
plt.bar(X_axis + 0.2, union["UnionPublic"], 0.4, label="Public")
plt.xticks(X_axis, union.index, rotation=90)
plt.legend()
plt.show()





X_axis = np.arange(len(union.index))
plt.figure(figsize=(12,7))
plt.title("Private vs Public Sector Union Membershp as Percentage of Workforce")
plt.bar(X_axis - 0.2, union["UnionPrivatePct"], 0.4, label="Private")
plt.bar(X_axis + 0.2, union["UnionPublicPct"], 0.4, label="Public")
plt.xticks(X_axis, union.index, rotation=90)
plt.legend()
plt.show()


X_axis = np.arange(len(union.index))
plt.figure(figsize=(12,7))
plt.title("Private vs Public Sector Union Representation")
plt.bar(X_axis - 0.2, union["PrivateRepr"], 0.4, label="Private")
plt.bar(X_axis + 0.2, union["PublicRepr"], 0.4, label="Public")
plt.xticks(X_axis, union.index, rotation=90)
plt.legend()
plt.show()


X_axis = np.arange(len(union.index))
plt.figure(figsize=(12,7))
plt.title("Private vs Public Sector Union Representation as Percentage of Workforce")
plt.bar(X_axis - 0.2, union["PrivateReprPct"], 0.4, label="Private")
plt.bar(X_axis + 0.2, union["PublicReprPct"], 0.4, label="Public")
plt.xticks(X_axis, union.index, rotation=90)
plt.legend()
plt.show()


X_axis = np.arange(len(union.index))
plt.figure(figsize=(12,7))
plt.title("Total Number of Private and Public Sector Employees")
plt.bar(X_axis - 0.2, union["EmpPrivate"], 0.4, label="Private")
plt.bar(X_axis + 0.2, union["EmpPublic"], 0.4, label="Public")
plt.xticks(X_axis, union.index, rotation=90)
plt.legend()
plt.show()


# maybe it would be interesting to plot some ratios

union.columns


union["EmpPrivatePublicRatio"] = union["EmpPrivate"]/union["EmpPublic"]


union



X_axis = np.arange(len(union.index))
#plt.figure(figsize=(12,7))
fig, ax1 = plt.subplots()
plt.xticks(X_axis, union.index, rotation=90)
ax1.plot(X_axis, union["EmpPrivatePublicRatio"], label="Ratio", linewidth=4, color="#000000")
ax1.set_ylabel("ratio")

ax2 = ax1.twinx()


ax2.bar(X_axis - 0.2, union["EmpPrivate"], 0.4, label="Private")
ax2.bar(X_axis + 0.2, union["EmpPublic"], 0.4, label="Public")

plt.title("Total Number of Private and Public Sector Employees With Ratio")


plt.legend()
fig.set_size_inches(12,8)
plt.show()


X_axis = np.arange(len(union.index))
#plt.figure(figsize=(12,7))
fig, ax1 = plt.subplots()
plt.xticks(X_axis, union.index, rotation=90)



ax1.bar(X_axis - 0.2, union["EmpPrivate"], 0.4, label="Private")
ax1.bar(X_axis + 0.2, union["EmpPublic"], 0.4, label="Public")
ax1.set_ylabel("thousands employed")
plt.legend()

ax2 = ax1.twinx()

ax2.plot(X_axis, union["EmpPrivatePublicRatio"], label="Ratio", linewidth=4, color="#000000")
ax2.set_ylabel("ratio")


plt.title("Total Number of Private and Public Sector Employees")


plt.legend()

fig.set_size_inches(12,8)
plt.show()





union["CheckPct"] = (union["EmpUnion"]/union["EmpWorkers"]) - union["UnionPct"]/100


union.drop("CheckPct", axis=1, inplace=True)


union["UnionPrivatePublicRatio"] = union["UnionPrivate"]/union["UnionPublic"]


X_axis = np.arange(len(union.index))
#plt.figure(figsize=(12,7))
fig, ax1 = plt.subplots()
plt.xticks(X_axis, union.index, rotation=90)



ax1.bar(X_axis - 0.2, union["UnionPrivate"], 0.4, label="Private")
ax1.bar(X_axis + 0.2, union["UnionPublic"], 0.4, label="Public")
ax1.set_ylabel("thousands of union members")
plt.legend()

ax2 = ax1.twinx()

ax2.plot(X_axis, union["UnionPrivatePublicRatio"], label="Ratio", linewidth=4, color="#000000")
ax2.set_ylabel("ratio")


plt.title("Total Number of Private and Public Sector Union Members")



fig.set_size_inches(12,8)
plt.show()


union["UnionPctPrivatePublicRatio"] = union["UnionPrivatePct"]/union["UnionPublicPct"]


X_axis = np.arange(len(union.index))

fig, ax1 = plt.subplots()
plt.xticks(X_axis, union.index, rotation=90)



ax1.bar(X_axis - 0.2, union["UnionPrivatePct"], 0.4, label="Private")
ax1.bar(X_axis + 0.2, union["UnionPublicPct"], 0.4, label="Public")
ax1.set_ylabel("% of employed who are union members")
plt.legend()

ax2 = ax1.twinx()

ax2.plot(X_axis, union["UnionPctPrivatePublicRatio"], label="Ratio", linewidth=4, color="#000000")
ax2.set_ylabel("ratio")


plt.title("Percentage of Private and Public Sector Union Members")



fig.set_size_inches(12,8)
plt.show()


# EmpWorkers  /  EmpUnion, UnionPct

X_axis = np.arange(len(union.index))

fig, ax1 = plt.subplots()
plt.xticks(X_axis, union.index, rotation=90)



ax1.bar(X_axis - 0.2, union["EmpWorkers"], 0.4, label="all workers")
ax1.bar(X_axis + 0.2, union["EmpUnion"], 0.4, label="union members")
ax1.set_ylabel("thousands of persons")
plt.legend(loc="upper center")

ax2 = ax1.twinx()

ax2.plot(X_axis, union["UnionPct"], label="pecrent", linewidth=4, color="#000000")
ax2.set_ylabel("% union membership")
plt.legend()

plt.title("Union Membership 1983-2022")



fig.set_size_inches(12,8)
plt.show()



# need one presentable graph from "stoppages" - otherwise why did I even bother with it?
stoppages.set_index(stoppages["Year"], inplace=True, drop=True)


stoppages


# I had expected the 'drop=True' param to drop the 'Year' column, but I guess not
stoppages.drop("Year", axis=1, inplace=True)


stoppages



# DaysIdlePct and StopsBegin

X_axis = np.arange(len(stoppages.index))

fig, ax1 = plt.subplots()
plt.xticks(X_axis, stoppages.index, rotation=90)



ax1.plot(X_axis, stoppages["StopsBegin"], linewidth=4, label="work stoppages beginning", color="#FF4444")
ax1.set_ylabel("work stoppages beginning")
plt.legend(loc='upper center')

ax2 = ax1.twinx()

ax2.plot(X_axis, stoppages["DaysIdlePct"], label="percentage of days idle", linewidth=4, color="#4444FF")
ax2.set_ylabel("percentage of days idle")
plt.legend()

plt.title("Work Stoppages Beginning and Percentage of Days Idle")



fig.set_size_inches(12,8)
plt.show()



