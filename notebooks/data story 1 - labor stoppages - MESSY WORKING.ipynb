{
 "cells": [
  {
   "cell_type": "code",
   "execution_count": 1,
   "id": "e4de1c60",
   "metadata": {},
   "outputs": [],
   "source": [
    "# start with imports - this will be mostly EDA\n",
    "import numpy as np\n",
    "import pandas as pd\n",
    "import matplotlib.pyplot as plt\n",
    "import seaborn as sns\n",
    "#from ipython.display import display\n",
    "#pd.options.display.max_columns = None"
   ]
  },
  {
   "cell_type": "code",
   "execution_count": 2,
   "id": "ed712853",
   "metadata": {},
   "outputs": [],
   "source": [
    "# import work stoppages annual listing\n",
    "col_names = [\"Year\", \"StopsBegin\", \"StopsEffect\", \"WorkerBegin\", \"WorkerEffect\", \"DaysIdle\", \"DaysIdlePct\"]\n",
    "stoppages = pd.read_csv(\"annual-listing.csv\", header=0, names=col_names)"
   ]
  },
  {
   "cell_type": "code",
   "execution_count": 3,
   "id": "0ee1a871",
   "metadata": {},
   "outputs": [
    {
     "data": {
      "text/html": [
       "<div>\n",
       "<style scoped>\n",
       "    .dataframe tbody tr th:only-of-type {\n",
       "        vertical-align: middle;\n",
       "    }\n",
       "\n",
       "    .dataframe tbody tr th {\n",
       "        vertical-align: top;\n",
       "    }\n",
       "\n",
       "    .dataframe thead th {\n",
       "        text-align: right;\n",
       "    }\n",
       "</style>\n",
       "<table border=\"1\" class=\"dataframe\">\n",
       "  <thead>\n",
       "    <tr style=\"text-align: right;\">\n",
       "      <th></th>\n",
       "      <th>Year</th>\n",
       "      <th>StopsBegin</th>\n",
       "      <th>StopsEffect</th>\n",
       "      <th>WorkerBegin</th>\n",
       "      <th>WorkerEffect</th>\n",
       "      <th>DaysIdle</th>\n",
       "      <th>DaysIdlePct</th>\n",
       "    </tr>\n",
       "  </thead>\n",
       "  <tbody>\n",
       "    <tr>\n",
       "      <th>0</th>\n",
       "      <td>1947</td>\n",
       "      <td>270</td>\n",
       "      <td>[4]</td>\n",
       "      <td>1,629.0</td>\n",
       "      <td>[4]</td>\n",
       "      <td>25,720.0</td>\n",
       "      <td>[4]</td>\n",
       "    </tr>\n",
       "    <tr>\n",
       "      <th>1</th>\n",
       "      <td>1948</td>\n",
       "      <td>245</td>\n",
       "      <td>[4]</td>\n",
       "      <td>1,435.0</td>\n",
       "      <td>[4]</td>\n",
       "      <td>26,127.0</td>\n",
       "      <td>0.22</td>\n",
       "    </tr>\n",
       "    <tr>\n",
       "      <th>2</th>\n",
       "      <td>1949</td>\n",
       "      <td>262</td>\n",
       "      <td>[4]</td>\n",
       "      <td>2,537.0</td>\n",
       "      <td>[4]</td>\n",
       "      <td>43,420.0</td>\n",
       "      <td>0.38</td>\n",
       "    </tr>\n",
       "    <tr>\n",
       "      <th>3</th>\n",
       "      <td>1950</td>\n",
       "      <td>424</td>\n",
       "      <td>[4]</td>\n",
       "      <td>1,698.0</td>\n",
       "      <td>[4]</td>\n",
       "      <td>30,390.0</td>\n",
       "      <td>0.26</td>\n",
       "    </tr>\n",
       "    <tr>\n",
       "      <th>4</th>\n",
       "      <td>1951</td>\n",
       "      <td>415</td>\n",
       "      <td>[4]</td>\n",
       "      <td>1,462.0</td>\n",
       "      <td>[4]</td>\n",
       "      <td>15,070.0</td>\n",
       "      <td>0.12</td>\n",
       "    </tr>\n",
       "  </tbody>\n",
       "</table>\n",
       "</div>"
      ],
      "text/plain": [
       "   Year  StopsBegin StopsEffect WorkerBegin WorkerEffect  DaysIdle DaysIdlePct\n",
       "0  1947         270         [4]     1,629.0          [4]  25,720.0         [4]\n",
       "1  1948         245         [4]     1,435.0          [4]  26,127.0        0.22\n",
       "2  1949         262         [4]     2,537.0          [4]  43,420.0        0.38\n",
       "3  1950         424         [4]     1,698.0          [4]  30,390.0        0.26\n",
       "4  1951         415         [4]     1,462.0          [4]  15,070.0        0.12"
      ]
     },
     "execution_count": 3,
     "metadata": {},
     "output_type": "execute_result"
    }
   ],
   "source": [
    "stoppages.head()"
   ]
  },
  {
   "cell_type": "markdown",
   "id": "5819cc36",
   "metadata": {},
   "source": [
    "From the original file we have the following notes:\n",
    "\n",
    "[2] Days idle includes all stoppages in effect during the reference period. For work stoppages that are still ongoing at the end of the calendar year, only those days of idleness in the calendar year are counted. \n",
    "\n",
    "[3] Percent of estimated working time is calculated using employment estimates from the Current Employment Statistics program and the number of workdays in the month and number of days idle from the Work Stoppages program.\n",
    "\n",
    "[4] Data not available.\n",
    "\n",
    "[5] Less than .005.\n"
   ]
  },
  {
   "cell_type": "markdown",
   "id": "f7bacd97",
   "metadata": {},
   "source": [
    "On the basis of this, obviously, \"[4]\"s should be replaced with NaN's.  But what about \"[5]\"?  One very naive option is to simply pick the midpoint of 0.005 and 0, and I think I'll go with that here."
   ]
  },
  {
   "cell_type": "code",
   "execution_count": 4,
   "id": "15a2e513",
   "metadata": {},
   "outputs": [],
   "source": [
    "# maybe it will be this easy\n",
    "\n",
    "stoppages.replace(to_replace=\"[4]\", value=np.nan, inplace=True)\n",
    "stoppages.replace(to_replace=\"[5]\", value=0.0025, inplace=True)"
   ]
  },
  {
   "cell_type": "code",
   "execution_count": 5,
   "id": "ab93e7e3",
   "metadata": {},
   "outputs": [
    {
     "data": {
      "text/html": [
       "<div>\n",
       "<style scoped>\n",
       "    .dataframe tbody tr th:only-of-type {\n",
       "        vertical-align: middle;\n",
       "    }\n",
       "\n",
       "    .dataframe tbody tr th {\n",
       "        vertical-align: top;\n",
       "    }\n",
       "\n",
       "    .dataframe thead th {\n",
       "        text-align: right;\n",
       "    }\n",
       "</style>\n",
       "<table border=\"1\" class=\"dataframe\">\n",
       "  <thead>\n",
       "    <tr style=\"text-align: right;\">\n",
       "      <th></th>\n",
       "      <th>Year</th>\n",
       "      <th>StopsBegin</th>\n",
       "      <th>StopsEffect</th>\n",
       "      <th>WorkerBegin</th>\n",
       "      <th>WorkerEffect</th>\n",
       "      <th>DaysIdle</th>\n",
       "      <th>DaysIdlePct</th>\n",
       "    </tr>\n",
       "  </thead>\n",
       "  <tbody>\n",
       "    <tr>\n",
       "      <th>0</th>\n",
       "      <td>1947</td>\n",
       "      <td>270</td>\n",
       "      <td>NaN</td>\n",
       "      <td>1,629.0</td>\n",
       "      <td>NaN</td>\n",
       "      <td>25,720.0</td>\n",
       "      <td>NaN</td>\n",
       "    </tr>\n",
       "    <tr>\n",
       "      <th>1</th>\n",
       "      <td>1948</td>\n",
       "      <td>245</td>\n",
       "      <td>NaN</td>\n",
       "      <td>1,435.0</td>\n",
       "      <td>NaN</td>\n",
       "      <td>26,127.0</td>\n",
       "      <td>0.22</td>\n",
       "    </tr>\n",
       "    <tr>\n",
       "      <th>2</th>\n",
       "      <td>1949</td>\n",
       "      <td>262</td>\n",
       "      <td>NaN</td>\n",
       "      <td>2,537.0</td>\n",
       "      <td>NaN</td>\n",
       "      <td>43,420.0</td>\n",
       "      <td>0.38</td>\n",
       "    </tr>\n",
       "    <tr>\n",
       "      <th>3</th>\n",
       "      <td>1950</td>\n",
       "      <td>424</td>\n",
       "      <td>NaN</td>\n",
       "      <td>1,698.0</td>\n",
       "      <td>NaN</td>\n",
       "      <td>30,390.0</td>\n",
       "      <td>0.26</td>\n",
       "    </tr>\n",
       "    <tr>\n",
       "      <th>4</th>\n",
       "      <td>1951</td>\n",
       "      <td>415</td>\n",
       "      <td>NaN</td>\n",
       "      <td>1,462.0</td>\n",
       "      <td>NaN</td>\n",
       "      <td>15,070.0</td>\n",
       "      <td>0.12</td>\n",
       "    </tr>\n",
       "    <tr>\n",
       "      <th>...</th>\n",
       "      <td>...</td>\n",
       "      <td>...</td>\n",
       "      <td>...</td>\n",
       "      <td>...</td>\n",
       "      <td>...</td>\n",
       "      <td>...</td>\n",
       "      <td>...</td>\n",
       "    </tr>\n",
       "    <tr>\n",
       "      <th>71</th>\n",
       "      <td>2018</td>\n",
       "      <td>20</td>\n",
       "      <td>21</td>\n",
       "      <td>485.2</td>\n",
       "      <td>487.0</td>\n",
       "      <td>2815.4</td>\n",
       "      <td>0.01</td>\n",
       "    </tr>\n",
       "    <tr>\n",
       "      <th>72</th>\n",
       "      <td>2019</td>\n",
       "      <td>25</td>\n",
       "      <td>27</td>\n",
       "      <td>425.5</td>\n",
       "      <td>428.5</td>\n",
       "      <td>3244.3</td>\n",
       "      <td>0.01</td>\n",
       "    </tr>\n",
       "    <tr>\n",
       "      <th>73</th>\n",
       "      <td>2020</td>\n",
       "      <td>8</td>\n",
       "      <td>10</td>\n",
       "      <td>27.0</td>\n",
       "      <td>30.6</td>\n",
       "      <td>965.7</td>\n",
       "      <td>0.0025</td>\n",
       "    </tr>\n",
       "    <tr>\n",
       "      <th>74</th>\n",
       "      <td>2021</td>\n",
       "      <td>16</td>\n",
       "      <td>17</td>\n",
       "      <td>80.7</td>\n",
       "      <td>82.5</td>\n",
       "      <td>1551.9</td>\n",
       "      <td>0.0025</td>\n",
       "    </tr>\n",
       "    <tr>\n",
       "      <th>75</th>\n",
       "      <td>2022</td>\n",
       "      <td>23</td>\n",
       "      <td>26</td>\n",
       "      <td>120.6</td>\n",
       "      <td>126.5</td>\n",
       "      <td>2312.7</td>\n",
       "      <td>0.01</td>\n",
       "    </tr>\n",
       "  </tbody>\n",
       "</table>\n",
       "<p>76 rows × 7 columns</p>\n",
       "</div>"
      ],
      "text/plain": [
       "    Year  StopsBegin StopsEffect WorkerBegin WorkerEffect  DaysIdle  \\\n",
       "0   1947         270         NaN     1,629.0          NaN  25,720.0   \n",
       "1   1948         245         NaN     1,435.0          NaN  26,127.0   \n",
       "2   1949         262         NaN     2,537.0          NaN  43,420.0   \n",
       "3   1950         424         NaN     1,698.0          NaN  30,390.0   \n",
       "4   1951         415         NaN     1,462.0          NaN  15,070.0   \n",
       "..   ...         ...         ...         ...          ...       ...   \n",
       "71  2018          20          21       485.2        487.0    2815.4   \n",
       "72  2019          25          27       425.5        428.5    3244.3   \n",
       "73  2020           8          10        27.0         30.6     965.7   \n",
       "74  2021          16          17        80.7         82.5    1551.9   \n",
       "75  2022          23          26       120.6        126.5    2312.7   \n",
       "\n",
       "   DaysIdlePct  \n",
       "0          NaN  \n",
       "1         0.22  \n",
       "2         0.38  \n",
       "3         0.26  \n",
       "4         0.12  \n",
       "..         ...  \n",
       "71        0.01  \n",
       "72        0.01  \n",
       "73      0.0025  \n",
       "74      0.0025  \n",
       "75        0.01  \n",
       "\n",
       "[76 rows x 7 columns]"
      ]
     },
     "metadata": {},
     "output_type": "display_data"
    }
   ],
   "source": [
    "display(stoppages)"
   ]
  },
  {
   "cell_type": "markdown",
   "id": "608d5071",
   "metadata": {},
   "source": [
    "It looks like it was, in fact, that easy.  Before anything else - let's make some very basic graphs."
   ]
  },
  {
   "cell_type": "code",
   "execution_count": 6,
   "id": "857260bf",
   "metadata": {},
   "outputs": [
    {
     "data": {
      "text/plain": [
       "[<matplotlib.lines.Line2D at 0x195e63dcac0>]"
      ]
     },
     "execution_count": 6,
     "metadata": {},
     "output_type": "execute_result"
    },
    {
     "data": {
      "image/png": "[encoded data removed]",
      "text/plain": [
       "<Figure size 432x288 with 1 Axes>"
      ]
     },
     "metadata": {
      "needs_background": "light"
     },
     "output_type": "display_data"
    }
   ],
   "source": [
    "plt.plot(stoppages[\"Year\"], stoppages[\"StopsBegin\"])"
   ]
  },
  {
   "cell_type": "code",
   "execution_count": 7,
   "id": "8bf839b0",
   "metadata": {},
   "outputs": [
    {
     "data": {
      "text/plain": [
       "[<matplotlib.lines.Line2D at 0x195e84c2eb0>]"
      ]
     },
     "execution_count": 7,
     "metadata": {},
     "output_type": "execute_result"
    },
    {
     "data": {
      "image/png": "[encoded data removed]",
      "text/plain": [
       "<Figure size 432x288 with 1 Axes>"
      ]
     },
     "metadata": {
      "needs_background": "light"
     },
     "output_type": "display_data"
    }
   ],
   "source": [
    "plt.plot(stoppages[\"Year\"], stoppages[\"StopsEffect\"])"
   ]
  },
  {
   "cell_type": "code",
   "execution_count": 8,
   "id": "4ccae2b3",
   "metadata": {},
   "outputs": [
    {
     "data": {
      "text/plain": [
       "[<matplotlib.lines.Line2D at 0x195e853f3a0>]"
      ]
     },
     "execution_count": 8,
     "metadata": {},
     "output_type": "execute_result"
    },
    {
     "data": {
      "image/png": "[encoded data removed]",
      "text/plain": [
       "<Figure size 432x288 with 1 Axes>"
      ]
     },
     "metadata": {
      "needs_background": "light"
     },
     "output_type": "display_data"
    }
   ],
   "source": [
    "plt.plot(stoppages[\"Year\"], stoppages[\"WorkerBegin\"])"
   ]
  },
  {
   "cell_type": "markdown",
   "id": "1e6d3d1d",
   "metadata": {},
   "source": [
    "This makes absolutely no sense to me, and a cursory search wasn't informative.  The cases I found of this involved the variable being of string type; is that possibly happening here?"
   ]
  },
  {
   "cell_type": "code",
   "execution_count": 9,
   "id": "28ada36d",
   "metadata": {},
   "outputs": [
    {
     "data": {
      "text/plain": [
       "str"
      ]
     },
     "execution_count": 9,
     "metadata": {},
     "output_type": "execute_result"
    }
   ],
   "source": [
    "type(stoppages[\"WorkerBegin\"][0])"
   ]
  },
  {
   "cell_type": "markdown",
   "id": "1b93e251",
   "metadata": {},
   "source": [
    "Well, I guess that search WAS informative."
   ]
  },
  {
   "cell_type": "code",
   "execution_count": 10,
   "id": "9a62eae3",
   "metadata": {},
   "outputs": [
    {
     "ename": "ValueError",
     "evalue": "could not convert string to float: '1,629.0'",
     "output_type": "error",
     "traceback": [
      "\u001b[1;31m---------------------------------------------------------------------------\u001b[0m",
      "\u001b[1;31mValueError\u001b[0m                                Traceback (most recent call last)",
      "\u001b[1;32m~\\AppData\\Local\\Temp/ipykernel_2484/3178144154.py\u001b[0m in \u001b[0;36m<module>\u001b[1;34m\u001b[0m\n\u001b[1;32m----> 1\u001b[1;33m \u001b[0mstoppages\u001b[0m\u001b[1;33m[\u001b[0m\u001b[1;34m\"WorkerBegin\"\u001b[0m\u001b[1;33m]\u001b[0m \u001b[1;33m=\u001b[0m \u001b[0mpd\u001b[0m\u001b[1;33m.\u001b[0m\u001b[0mSeries\u001b[0m\u001b[1;33m(\u001b[0m\u001b[0mmap\u001b[0m\u001b[1;33m(\u001b[0m\u001b[0mfloat\u001b[0m\u001b[1;33m,\u001b[0m \u001b[0mstoppages\u001b[0m\u001b[1;33m[\u001b[0m\u001b[1;34m\"WorkerBegin\"\u001b[0m\u001b[1;33m]\u001b[0m\u001b[1;33m)\u001b[0m\u001b[1;33m)\u001b[0m\u001b[1;33m\u001b[0m\u001b[1;33m\u001b[0m\u001b[0m\n\u001b[0m",
      "\u001b[1;32mC:\\ProgramData\\Anaconda3\\lib\\site-packages\\pandas\\core\\series.py\u001b[0m in \u001b[0;36m__init__\u001b[1;34m(self, data, index, dtype, name, copy, fastpath)\u001b[0m\n\u001b[0;32m    421\u001b[0m                 \u001b[1;32mpass\u001b[0m\u001b[1;33m\u001b[0m\u001b[1;33m\u001b[0m\u001b[0m\n\u001b[0;32m    422\u001b[0m             \u001b[1;32melse\u001b[0m\u001b[1;33m:\u001b[0m\u001b[1;33m\u001b[0m\u001b[1;33m\u001b[0m\u001b[0m\n\u001b[1;32m--> 423\u001b[1;33m                 \u001b[0mdata\u001b[0m \u001b[1;33m=\u001b[0m \u001b[0mcom\u001b[0m\u001b[1;33m.\u001b[0m\u001b[0mmaybe_iterable_to_list\u001b[0m\u001b[1;33m(\u001b[0m\u001b[0mdata\u001b[0m\u001b[1;33m)\u001b[0m\u001b[1;33m\u001b[0m\u001b[1;33m\u001b[0m\u001b[0m\n\u001b[0m\u001b[0;32m    424\u001b[0m \u001b[1;33m\u001b[0m\u001b[0m\n\u001b[0;32m    425\u001b[0m             \u001b[1;32mif\u001b[0m \u001b[0mindex\u001b[0m \u001b[1;32mis\u001b[0m \u001b[1;32mNone\u001b[0m\u001b[1;33m:\u001b[0m\u001b[1;33m\u001b[0m\u001b[1;33m\u001b[0m\u001b[0m\n",
      "\u001b[1;32mC:\\ProgramData\\Anaconda3\\lib\\site-packages\\pandas\\core\\common.py\u001b[0m in \u001b[0;36mmaybe_iterable_to_list\u001b[1;34m(obj)\u001b[0m\n\u001b[0;32m    290\u001b[0m     \"\"\"\n\u001b[0;32m    291\u001b[0m     \u001b[1;32mif\u001b[0m \u001b[0misinstance\u001b[0m\u001b[1;33m(\u001b[0m\u001b[0mobj\u001b[0m\u001b[1;33m,\u001b[0m \u001b[0mabc\u001b[0m\u001b[1;33m.\u001b[0m\u001b[0mIterable\u001b[0m\u001b[1;33m)\u001b[0m \u001b[1;32mand\u001b[0m \u001b[1;32mnot\u001b[0m \u001b[0misinstance\u001b[0m\u001b[1;33m(\u001b[0m\u001b[0mobj\u001b[0m\u001b[1;33m,\u001b[0m \u001b[0mabc\u001b[0m\u001b[1;33m.\u001b[0m\u001b[0mSized\u001b[0m\u001b[1;33m)\u001b[0m\u001b[1;33m:\u001b[0m\u001b[1;33m\u001b[0m\u001b[1;33m\u001b[0m\u001b[0m\n\u001b[1;32m--> 292\u001b[1;33m         \u001b[1;32mreturn\u001b[0m \u001b[0mlist\u001b[0m\u001b[1;33m(\u001b[0m\u001b[0mobj\u001b[0m\u001b[1;33m)\u001b[0m\u001b[1;33m\u001b[0m\u001b[1;33m\u001b[0m\u001b[0m\n\u001b[0m\u001b[0;32m    293\u001b[0m     \u001b[0mobj\u001b[0m \u001b[1;33m=\u001b[0m \u001b[0mcast\u001b[0m\u001b[1;33m(\u001b[0m\u001b[0mCollection\u001b[0m\u001b[1;33m,\u001b[0m \u001b[0mobj\u001b[0m\u001b[1;33m)\u001b[0m\u001b[1;33m\u001b[0m\u001b[1;33m\u001b[0m\u001b[0m\n\u001b[0;32m    294\u001b[0m     \u001b[1;32mreturn\u001b[0m \u001b[0mobj\u001b[0m\u001b[1;33m\u001b[0m\u001b[1;33m\u001b[0m\u001b[0m\n",
      "\u001b[1;31mValueError\u001b[0m: could not convert string to float: '1,629.0'"
     ]
    }
   ],
   "source": [
    "stoppages[\"WorkerBegin\"] = pd.Series(map(float, stoppages[\"WorkerBegin\"]))"
   ]
  },
  {
   "cell_type": "markdown",
   "id": "0f750f3b",
   "metadata": {},
   "source": [
    "What a vexing little problem!  The comma precludes float representation.  Ugh."
   ]
  },
  {
   "cell_type": "code",
   "execution_count": null,
   "id": "f78fd42e",
   "metadata": {},
   "outputs": [],
   "source": [
    "stoppages[\"WorkerBegin\"] = stoppages[\"WorkerBegin\"].str.replace(\",\", \"\")"
   ]
  },
  {
   "cell_type": "code",
   "execution_count": 11,
   "id": "43189548",
   "metadata": {},
   "outputs": [
    {
     "data": {
      "text/html": [
       "<div>\n",
       "<style scoped>\n",
       "    .dataframe tbody tr th:only-of-type {\n",
       "        vertical-align: middle;\n",
       "    }\n",
       "\n",
       "    .dataframe tbody tr th {\n",
       "        vertical-align: top;\n",
       "    }\n",
       "\n",
       "    .dataframe thead th {\n",
       "        text-align: right;\n",
       "    }\n",
       "</style>\n",
       "<table border=\"1\" class=\"dataframe\">\n",
       "  <thead>\n",
       "    <tr style=\"text-align: right;\">\n",
       "      <th></th>\n",
       "      <th>Year</th>\n",
       "      <th>StopsBegin</th>\n",
       "      <th>StopsEffect</th>\n",
       "      <th>WorkerBegin</th>\n",
       "      <th>WorkerEffect</th>\n",
       "      <th>DaysIdle</th>\n",
       "      <th>DaysIdlePct</th>\n",
       "    </tr>\n",
       "  </thead>\n",
       "  <tbody>\n",
       "    <tr>\n",
       "      <th>0</th>\n",
       "      <td>1947</td>\n",
       "      <td>270</td>\n",
       "      <td>NaN</td>\n",
       "      <td>1,629.0</td>\n",
       "      <td>NaN</td>\n",
       "      <td>25,720.0</td>\n",
       "      <td>NaN</td>\n",
       "    </tr>\n",
       "    <tr>\n",
       "      <th>1</th>\n",
       "      <td>1948</td>\n",
       "      <td>245</td>\n",
       "      <td>NaN</td>\n",
       "      <td>1,435.0</td>\n",
       "      <td>NaN</td>\n",
       "      <td>26,127.0</td>\n",
       "      <td>0.22</td>\n",
       "    </tr>\n",
       "    <tr>\n",
       "      <th>2</th>\n",
       "      <td>1949</td>\n",
       "      <td>262</td>\n",
       "      <td>NaN</td>\n",
       "      <td>2,537.0</td>\n",
       "      <td>NaN</td>\n",
       "      <td>43,420.0</td>\n",
       "      <td>0.38</td>\n",
       "    </tr>\n",
       "    <tr>\n",
       "      <th>3</th>\n",
       "      <td>1950</td>\n",
       "      <td>424</td>\n",
       "      <td>NaN</td>\n",
       "      <td>1,698.0</td>\n",
       "      <td>NaN</td>\n",
       "      <td>30,390.0</td>\n",
       "      <td>0.26</td>\n",
       "    </tr>\n",
       "    <tr>\n",
       "      <th>4</th>\n",
       "      <td>1951</td>\n",
       "      <td>415</td>\n",
       "      <td>NaN</td>\n",
       "      <td>1,462.0</td>\n",
       "      <td>NaN</td>\n",
       "      <td>15,070.0</td>\n",
       "      <td>0.12</td>\n",
       "    </tr>\n",
       "  </tbody>\n",
       "</table>\n",
       "</div>"
      ],
      "text/plain": [
       "   Year  StopsBegin StopsEffect WorkerBegin WorkerEffect  DaysIdle DaysIdlePct\n",
       "0  1947         270         NaN     1,629.0          NaN  25,720.0         NaN\n",
       "1  1948         245         NaN     1,435.0          NaN  26,127.0        0.22\n",
       "2  1949         262         NaN     2,537.0          NaN  43,420.0        0.38\n",
       "3  1950         424         NaN     1,698.0          NaN  30,390.0        0.26\n",
       "4  1951         415         NaN     1,462.0          NaN  15,070.0        0.12"
      ]
     },
     "execution_count": 11,
     "metadata": {},
     "output_type": "execute_result"
    }
   ],
   "source": [
    "stoppages.head()"
   ]
  },
  {
   "cell_type": "markdown",
   "id": "5afee7e0",
   "metadata": {},
   "source": [
    "This appears to have worked.  I can see that I need to do the same with DaysIdle."
   ]
  },
  {
   "cell_type": "code",
   "execution_count": 12,
   "id": "642fafcf",
   "metadata": {},
   "outputs": [
    {
     "data": {
      "text/html": [
       "<div>\n",
       "<style scoped>\n",
       "    .dataframe tbody tr th:only-of-type {\n",
       "        vertical-align: middle;\n",
       "    }\n",
       "\n",
       "    .dataframe tbody tr th {\n",
       "        vertical-align: top;\n",
       "    }\n",
       "\n",
       "    .dataframe thead th {\n",
       "        text-align: right;\n",
       "    }\n",
       "</style>\n",
       "<table border=\"1\" class=\"dataframe\">\n",
       "  <thead>\n",
       "    <tr style=\"text-align: right;\">\n",
       "      <th></th>\n",
       "      <th>Year</th>\n",
       "      <th>StopsBegin</th>\n",
       "      <th>StopsEffect</th>\n",
       "      <th>WorkerBegin</th>\n",
       "      <th>WorkerEffect</th>\n",
       "      <th>DaysIdle</th>\n",
       "      <th>DaysIdlePct</th>\n",
       "    </tr>\n",
       "  </thead>\n",
       "  <tbody>\n",
       "    <tr>\n",
       "      <th>0</th>\n",
       "      <td>1947</td>\n",
       "      <td>270</td>\n",
       "      <td>NaN</td>\n",
       "      <td>1,629.0</td>\n",
       "      <td>NaN</td>\n",
       "      <td>25720.0</td>\n",
       "      <td>NaN</td>\n",
       "    </tr>\n",
       "    <tr>\n",
       "      <th>1</th>\n",
       "      <td>1948</td>\n",
       "      <td>245</td>\n",
       "      <td>NaN</td>\n",
       "      <td>1,435.0</td>\n",
       "      <td>NaN</td>\n",
       "      <td>26127.0</td>\n",
       "      <td>0.22</td>\n",
       "    </tr>\n",
       "    <tr>\n",
       "      <th>2</th>\n",
       "      <td>1949</td>\n",
       "      <td>262</td>\n",
       "      <td>NaN</td>\n",
       "      <td>2,537.0</td>\n",
       "      <td>NaN</td>\n",
       "      <td>43420.0</td>\n",
       "      <td>0.38</td>\n",
       "    </tr>\n",
       "    <tr>\n",
       "      <th>3</th>\n",
       "      <td>1950</td>\n",
       "      <td>424</td>\n",
       "      <td>NaN</td>\n",
       "      <td>1,698.0</td>\n",
       "      <td>NaN</td>\n",
       "      <td>30390.0</td>\n",
       "      <td>0.26</td>\n",
       "    </tr>\n",
       "    <tr>\n",
       "      <th>4</th>\n",
       "      <td>1951</td>\n",
       "      <td>415</td>\n",
       "      <td>NaN</td>\n",
       "      <td>1,462.0</td>\n",
       "      <td>NaN</td>\n",
       "      <td>15070.0</td>\n",
       "      <td>0.12</td>\n",
       "    </tr>\n",
       "  </tbody>\n",
       "</table>\n",
       "</div>"
      ],
      "text/plain": [
       "   Year  StopsBegin StopsEffect WorkerBegin WorkerEffect DaysIdle DaysIdlePct\n",
       "0  1947         270         NaN     1,629.0          NaN  25720.0         NaN\n",
       "1  1948         245         NaN     1,435.0          NaN  26127.0        0.22\n",
       "2  1949         262         NaN     2,537.0          NaN  43420.0        0.38\n",
       "3  1950         424         NaN     1,698.0          NaN  30390.0        0.26\n",
       "4  1951         415         NaN     1,462.0          NaN  15070.0        0.12"
      ]
     },
     "execution_count": 12,
     "metadata": {},
     "output_type": "execute_result"
    }
   ],
   "source": [
    "stoppages[\"DaysIdle\"] = stoppages[\"DaysIdle\"].str.replace(\",\", \"\")\n",
    "stoppages.head()"
   ]
  },
  {
   "cell_type": "code",
   "execution_count": 13,
   "id": "2ddbdbeb",
   "metadata": {},
   "outputs": [
    {
     "ename": "ValueError",
     "evalue": "could not convert string to float: '1,629.0'",
     "output_type": "error",
     "traceback": [
      "\u001b[1;31m---------------------------------------------------------------------------\u001b[0m",
      "\u001b[1;31mValueError\u001b[0m                                Traceback (most recent call last)",
      "\u001b[1;32m~\\AppData\\Local\\Temp/ipykernel_2484/3639689434.py\u001b[0m in \u001b[0;36m<module>\u001b[1;34m\u001b[0m\n\u001b[0;32m      1\u001b[0m \u001b[1;31m# Now, both of these variables should be mappable to floats, right?\u001b[0m\u001b[1;33m\u001b[0m\u001b[1;33m\u001b[0m\u001b[0m\n\u001b[0;32m      2\u001b[0m \u001b[1;33m\u001b[0m\u001b[0m\n\u001b[1;32m----> 3\u001b[1;33m \u001b[0mstoppages\u001b[0m\u001b[1;33m[\u001b[0m\u001b[1;34m\"WorkerBegin\"\u001b[0m\u001b[1;33m]\u001b[0m \u001b[1;33m=\u001b[0m \u001b[0mpd\u001b[0m\u001b[1;33m.\u001b[0m\u001b[0mSeries\u001b[0m\u001b[1;33m(\u001b[0m\u001b[0mmap\u001b[0m\u001b[1;33m(\u001b[0m\u001b[0mfloat\u001b[0m\u001b[1;33m,\u001b[0m \u001b[0mstoppages\u001b[0m\u001b[1;33m[\u001b[0m\u001b[1;34m\"WorkerBegin\"\u001b[0m\u001b[1;33m]\u001b[0m\u001b[1;33m)\u001b[0m\u001b[1;33m)\u001b[0m\u001b[1;33m\u001b[0m\u001b[1;33m\u001b[0m\u001b[0m\n\u001b[0m\u001b[0;32m      4\u001b[0m \u001b[0mstoppages\u001b[0m\u001b[1;33m[\u001b[0m\u001b[1;34m\"DaysIdle\"\u001b[0m\u001b[1;33m]\u001b[0m \u001b[1;33m=\u001b[0m \u001b[0mpd\u001b[0m\u001b[1;33m.\u001b[0m\u001b[0mSeries\u001b[0m\u001b[1;33m(\u001b[0m\u001b[0mmap\u001b[0m\u001b[1;33m(\u001b[0m\u001b[0mfloat\u001b[0m\u001b[1;33m,\u001b[0m \u001b[0mstoppages\u001b[0m\u001b[1;33m[\u001b[0m\u001b[1;34m\"DaysIdle\"\u001b[0m\u001b[1;33m]\u001b[0m\u001b[1;33m)\u001b[0m\u001b[1;33m)\u001b[0m\u001b[1;33m\u001b[0m\u001b[1;33m\u001b[0m\u001b[0m\n",
      "\u001b[1;32mC:\\ProgramData\\Anaconda3\\lib\\site-packages\\pandas\\core\\series.py\u001b[0m in \u001b[0;36m__init__\u001b[1;34m(self, data, index, dtype, name, copy, fastpath)\u001b[0m\n\u001b[0;32m    421\u001b[0m                 \u001b[1;32mpass\u001b[0m\u001b[1;33m\u001b[0m\u001b[1;33m\u001b[0m\u001b[0m\n\u001b[0;32m    422\u001b[0m             \u001b[1;32melse\u001b[0m\u001b[1;33m:\u001b[0m\u001b[1;33m\u001b[0m\u001b[1;33m\u001b[0m\u001b[0m\n\u001b[1;32m--> 423\u001b[1;33m                 \u001b[0mdata\u001b[0m \u001b[1;33m=\u001b[0m \u001b[0mcom\u001b[0m\u001b[1;33m.\u001b[0m\u001b[0mmaybe_iterable_to_list\u001b[0m\u001b[1;33m(\u001b[0m\u001b[0mdata\u001b[0m\u001b[1;33m)\u001b[0m\u001b[1;33m\u001b[0m\u001b[1;33m\u001b[0m\u001b[0m\n\u001b[0m\u001b[0;32m    424\u001b[0m \u001b[1;33m\u001b[0m\u001b[0m\n\u001b[0;32m    425\u001b[0m             \u001b[1;32mif\u001b[0m \u001b[0mindex\u001b[0m \u001b[1;32mis\u001b[0m \u001b[1;32mNone\u001b[0m\u001b[1;33m:\u001b[0m\u001b[1;33m\u001b[0m\u001b[1;33m\u001b[0m\u001b[0m\n",
      "\u001b[1;32mC:\\ProgramData\\Anaconda3\\lib\\site-packages\\pandas\\core\\common.py\u001b[0m in \u001b[0;36mmaybe_iterable_to_list\u001b[1;34m(obj)\u001b[0m\n\u001b[0;32m    290\u001b[0m     \"\"\"\n\u001b[0;32m    291\u001b[0m     \u001b[1;32mif\u001b[0m \u001b[0misinstance\u001b[0m\u001b[1;33m(\u001b[0m\u001b[0mobj\u001b[0m\u001b[1;33m,\u001b[0m \u001b[0mabc\u001b[0m\u001b[1;33m.\u001b[0m\u001b[0mIterable\u001b[0m\u001b[1;33m)\u001b[0m \u001b[1;32mand\u001b[0m \u001b[1;32mnot\u001b[0m \u001b[0misinstance\u001b[0m\u001b[1;33m(\u001b[0m\u001b[0mobj\u001b[0m\u001b[1;33m,\u001b[0m \u001b[0mabc\u001b[0m\u001b[1;33m.\u001b[0m\u001b[0mSized\u001b[0m\u001b[1;33m)\u001b[0m\u001b[1;33m:\u001b[0m\u001b[1;33m\u001b[0m\u001b[1;33m\u001b[0m\u001b[0m\n\u001b[1;32m--> 292\u001b[1;33m         \u001b[1;32mreturn\u001b[0m \u001b[0mlist\u001b[0m\u001b[1;33m(\u001b[0m\u001b[0mobj\u001b[0m\u001b[1;33m)\u001b[0m\u001b[1;33m\u001b[0m\u001b[1;33m\u001b[0m\u001b[0m\n\u001b[0m\u001b[0;32m    293\u001b[0m     \u001b[0mobj\u001b[0m \u001b[1;33m=\u001b[0m \u001b[0mcast\u001b[0m\u001b[1;33m(\u001b[0m\u001b[0mCollection\u001b[0m\u001b[1;33m,\u001b[0m \u001b[0mobj\u001b[0m\u001b[1;33m)\u001b[0m\u001b[1;33m\u001b[0m\u001b[1;33m\u001b[0m\u001b[0m\n\u001b[0;32m    294\u001b[0m     \u001b[1;32mreturn\u001b[0m \u001b[0mobj\u001b[0m\u001b[1;33m\u001b[0m\u001b[1;33m\u001b[0m\u001b[0m\n",
      "\u001b[1;31mValueError\u001b[0m: could not convert string to float: '1,629.0'"
     ]
    }
   ],
   "source": [
    "# Now, both of these variables should be mappable to floats, right?\n",
    "\n",
    "stoppages[\"WorkerBegin\"] = pd.Series(map(float, stoppages[\"WorkerBegin\"]))\n",
    "stoppages[\"DaysIdle\"] = pd.Series(map(float, stoppages[\"DaysIdle\"]))"
   ]
  },
  {
   "cell_type": "code",
   "execution_count": 14,
   "id": "8c5636ed",
   "metadata": {},
   "outputs": [
    {
     "data": {
      "text/plain": [
       "str"
      ]
     },
     "execution_count": 14,
     "metadata": {},
     "output_type": "execute_result"
    }
   ],
   "source": [
    "type(stoppages[\"WorkerBegin\"][0])"
   ]
  },
  {
   "cell_type": "code",
   "execution_count": 15,
   "id": "e695c92f",
   "metadata": {},
   "outputs": [
    {
     "data": {
      "text/plain": [
       "[<matplotlib.lines.Line2D at 0x195e630df40>]"
      ]
     },
     "execution_count": 15,
     "metadata": {},
     "output_type": "execute_result"
    },
    {
     "data": {
      "image/png": "[encoded data removed]",
      "text/plain": [
       "<Figure size 432x288 with 1 Axes>"
      ]
     },
     "metadata": {
      "needs_background": "light"
     },
     "output_type": "display_data"
    }
   ],
   "source": [
    "# this should now - after all that! - finally produce the simple line graph I wanted:\n",
    "\n",
    "plt.plot(stoppages[\"Year\"], stoppages[\"WorkerBegin\"])"
   ]
  },
  {
   "cell_type": "code",
   "execution_count": 16,
   "id": "11c575c1",
   "metadata": {},
   "outputs": [
    {
     "data": {
      "text/plain": [
       "[<matplotlib.lines.Line2D at 0x195e893d730>]"
      ]
     },
     "execution_count": 16,
     "metadata": {},
     "output_type": "execute_result"
    },
    {
     "data": {
      "image/png": "[encoded data removed]",
      "text/plain": [
       "<Figure size 432x288 with 1 Axes>"
      ]
     },
     "metadata": {
      "needs_background": "light"
     },
     "output_type": "display_data"
    }
   ],
   "source": [
    "plt.plot(stoppages[\"Year\"], stoppages[\"WorkerEffect\"])"
   ]
  },
  {
   "cell_type": "code",
   "execution_count": 17,
   "id": "185a26c7",
   "metadata": {},
   "outputs": [
    {
     "data": {
      "text/plain": [
       "[<matplotlib.lines.Line2D at 0x195e899c190>]"
      ]
     },
     "execution_count": 17,
     "metadata": {},
     "output_type": "execute_result"
    },
    {
     "data": {
      "image/png": "[encoded data removed]",
      "text/plain": [
       "<Figure size 432x288 with 1 Axes>"
      ]
     },
     "metadata": {
      "needs_background": "light"
     },
     "output_type": "display_data"
    }
   ],
   "source": [
    "plt.plot(stoppages[\"Year\"], stoppages[\"DaysIdle\"])"
   ]
  },
  {
   "cell_type": "code",
   "execution_count": 18,
   "id": "92fca7df",
   "metadata": {},
   "outputs": [
    {
     "data": {
      "text/plain": [
       "[<matplotlib.lines.Line2D at 0x195e8abe5b0>]"
      ]
     },
     "execution_count": 18,
     "metadata": {},
     "output_type": "execute_result"
    },
    {
     "data": {
      "image/png": "[encoded data removed]",
      "text/plain": [
       "<Figure size 432x288 with 1 Axes>"
      ]
     },
     "metadata": {
      "needs_background": "light"
     },
     "output_type": "display_data"
    }
   ],
   "source": [
    "plt.plot(stoppages[\"Year\"], stoppages[\"DaysIdlePct\"])"
   ]
  },
  {
   "cell_type": "markdown",
   "id": "db9132a8",
   "metadata": {},
   "source": [
    "Okay, so what's the story here?  In the first place, I have to note:  these series _don't_ have the same range.   It's obvious to see the (rough) correspondences between \"StopsBegin\" and \"StopsEffect\" and between \"WorkerBegin\" and \"WorkerEffect\" from the 1980's on.  Comparing \"DaysIdle\" and \"DaysIdlePct\" shows a similar correspondence, although if you look closely you'll discern the growing size of the labor force, as equal levels of \"DaysIdle\" correspond to slightly lower percentages.  \n",
    "\n",
    "The most obvious phenomenon of all, however, is the overall downward trend in work stoppages.  By itself, this isn't much of a \"data story\" - I need to explore more deeply.  I'd like to incorporate some data sets involving union participation, workforce composition, and wage growth.  I'd also like to compare union activity across segments of the economy.  Unfortunately, I'm finding that the BLS data sources are simply _dismal_ - one important query is returning a _text file_ consisting of each series with the index _as a distinct csv, with a header_ - and I'm trying to work through that, although, as I understand, this isn't meant to be a data wrangling activity."
   ]
  },
  {
   "cell_type": "markdown",
   "id": "e342e567",
   "metadata": {},
   "source": [
    "To my delight, I discovered that pandas read_csv has a \"thousands\" attribute!  This makes the import task far more tractable, although I am still going to need to clean up the atrocious non-csv file that the data tool returns."
   ]
  },
  {
   "cell_type": "code",
   "execution_count": 19,
   "id": "e273c1fa",
   "metadata": {},
   "outputs": [],
   "source": [
    "union = pd.read_csv(\"union_repr.csv\")"
   ]
  },
  {
   "cell_type": "code",
   "execution_count": 20,
   "id": "5b66cb41",
   "metadata": {},
   "outputs": [
    {
     "data": {
      "text/html": [
       "<div>\n",
       "<style scoped>\n",
       "    .dataframe tbody tr th:only-of-type {\n",
       "        vertical-align: middle;\n",
       "    }\n",
       "\n",
       "    .dataframe tbody tr th {\n",
       "        vertical-align: top;\n",
       "    }\n",
       "\n",
       "    .dataframe thead th {\n",
       "        text-align: right;\n",
       "    }\n",
       "</style>\n",
       "<table border=\"1\" class=\"dataframe\">\n",
       "  <thead>\n",
       "    <tr style=\"text-align: right;\">\n",
       "      <th></th>\n",
       "      <th>Series ID</th>\n",
       "      <th>Annual 1983</th>\n",
       "      <th>Annual 1984</th>\n",
       "      <th>Annual 1985</th>\n",
       "      <th>Annual 1986</th>\n",
       "      <th>Annual 1987</th>\n",
       "      <th>Annual 1988</th>\n",
       "      <th>Annual 1989</th>\n",
       "      <th>Annual 1990</th>\n",
       "      <th>Annual 1991</th>\n",
       "      <th>...</th>\n",
       "      <th>Annual 2013</th>\n",
       "      <th>Annual 2014</th>\n",
       "      <th>Annual 2015</th>\n",
       "      <th>Annual 2016</th>\n",
       "      <th>Annual 2017</th>\n",
       "      <th>Annual 2018</th>\n",
       "      <th>Annual 2019</th>\n",
       "      <th>Annual 2020</th>\n",
       "      <th>Annual 2021</th>\n",
       "      <th>Annual 2022</th>\n",
       "    </tr>\n",
       "  </thead>\n",
       "  <tbody>\n",
       "    <tr>\n",
       "      <th>0</th>\n",
       "      <td>LUU0204466800</td>\n",
       "      <td>88290</td>\n",
       "      <td>92194</td>\n",
       "      <td>94521</td>\n",
       "      <td>96903</td>\n",
       "      <td>99303</td>\n",
       "      <td>101407</td>\n",
       "      <td>103480</td>\n",
       "      <td>104876</td>\n",
       "      <td>103723</td>\n",
       "      <td>...</td>\n",
       "      <td>129110.0</td>\n",
       "      <td>131431.0</td>\n",
       "      <td>133743.0</td>\n",
       "      <td>136101.0</td>\n",
       "      <td>137890.0</td>\n",
       "      <td>140099.0</td>\n",
       "      <td>141737.0</td>\n",
       "      <td>132174.0</td>\n",
       "      <td>136393.0</td>\n",
       "      <td>141673.0</td>\n",
       "    </tr>\n",
       "    <tr>\n",
       "      <th>1</th>\n",
       "      <td>LUU0203161800</td>\n",
       "      <td>17717</td>\n",
       "      <td>17340</td>\n",
       "      <td>16996</td>\n",
       "      <td>16975</td>\n",
       "      <td>16913</td>\n",
       "      <td>17002</td>\n",
       "      <td>16960</td>\n",
       "      <td>16776</td>\n",
       "      <td>16612</td>\n",
       "      <td>...</td>\n",
       "      <td>14528.0</td>\n",
       "      <td>14576.0</td>\n",
       "      <td>14795.0</td>\n",
       "      <td>14555.0</td>\n",
       "      <td>14817.0</td>\n",
       "      <td>14744.0</td>\n",
       "      <td>14574.0</td>\n",
       "      <td>14253.0</td>\n",
       "      <td>14012.0</td>\n",
       "      <td>14285.0</td>\n",
       "    </tr>\n",
       "    <tr>\n",
       "      <th>2</th>\n",
       "      <td>LUU0204899600</td>\n",
       "      <td>20.1</td>\n",
       "      <td>18.8</td>\n",
       "      <td>18.0</td>\n",
       "      <td>17.5</td>\n",
       "      <td>17.0</td>\n",
       "      <td>16.8</td>\n",
       "      <td>16.4</td>\n",
       "      <td>16.0</td>\n",
       "      <td>16.0</td>\n",
       "      <td>...</td>\n",
       "      <td>11.3</td>\n",
       "      <td>11.1</td>\n",
       "      <td>11.1</td>\n",
       "      <td>10.7</td>\n",
       "      <td>10.7</td>\n",
       "      <td>10.5</td>\n",
       "      <td>10.3</td>\n",
       "      <td>10.8</td>\n",
       "      <td>10.3</td>\n",
       "      <td>10.1</td>\n",
       "    </tr>\n",
       "    <tr>\n",
       "      <th>3</th>\n",
       "      <td>LUU0203161900</td>\n",
       "      <td>20532</td>\n",
       "      <td>19932</td>\n",
       "      <td>19358</td>\n",
       "      <td>19278</td>\n",
       "      <td>19051</td>\n",
       "      <td>19241</td>\n",
       "      <td>19198</td>\n",
       "      <td>19105</td>\n",
       "      <td>18790</td>\n",
       "      <td>...</td>\n",
       "      <td>16028.0</td>\n",
       "      <td>16152.0</td>\n",
       "      <td>16441.0</td>\n",
       "      <td>16271.0</td>\n",
       "      <td>16444.0</td>\n",
       "      <td>16380.0</td>\n",
       "      <td>16383.0</td>\n",
       "      <td>15939.0</td>\n",
       "      <td>15802.0</td>\n",
       "      <td>16002.0</td>\n",
       "    </tr>\n",
       "    <tr>\n",
       "      <th>4</th>\n",
       "      <td>LUU0204899700</td>\n",
       "      <td>23.3</td>\n",
       "      <td>21.6</td>\n",
       "      <td>20.5</td>\n",
       "      <td>19.9</td>\n",
       "      <td>19.2</td>\n",
       "      <td>19.0</td>\n",
       "      <td>18.6</td>\n",
       "      <td>18.2</td>\n",
       "      <td>18.1</td>\n",
       "      <td>...</td>\n",
       "      <td>12.4</td>\n",
       "      <td>12.3</td>\n",
       "      <td>12.3</td>\n",
       "      <td>12.0</td>\n",
       "      <td>11.9</td>\n",
       "      <td>11.7</td>\n",
       "      <td>11.6</td>\n",
       "      <td>12.1</td>\n",
       "      <td>11.6</td>\n",
       "      <td>11.3</td>\n",
       "    </tr>\n",
       "  </tbody>\n",
       "</table>\n",
       "<p>5 rows × 41 columns</p>\n",
       "</div>"
      ],
      "text/plain": [
       "       Series ID Annual 1983 Annual 1984 Annual 1985 Annual 1986 Annual 1987  \\\n",
       "0  LUU0204466800       88290       92194       94521       96903       99303   \n",
       "1  LUU0203161800       17717       17340       16996       16975       16913   \n",
       "2  LUU0204899600        20.1        18.8        18.0        17.5        17.0   \n",
       "3  LUU0203161900       20532       19932       19358       19278       19051   \n",
       "4  LUU0204899700        23.3        21.6        20.5        19.9        19.2   \n",
       "\n",
       "  Annual 1988 Annual 1989 Annual 1990 Annual 1991  ... Annual 2013  \\\n",
       "0      101407      103480      104876      103723  ...    129110.0   \n",
       "1       17002       16960       16776       16612  ...     14528.0   \n",
       "2        16.8        16.4        16.0        16.0  ...        11.3   \n",
       "3       19241       19198       19105       18790  ...     16028.0   \n",
       "4        19.0        18.6        18.2        18.1  ...        12.4   \n",
       "\n",
       "  Annual 2014 Annual 2015 Annual 2016 Annual 2017 Annual 2018 Annual 2019  \\\n",
       "0    131431.0    133743.0    136101.0    137890.0    140099.0    141737.0   \n",
       "1     14576.0     14795.0     14555.0     14817.0     14744.0     14574.0   \n",
       "2        11.1        11.1        10.7        10.7        10.5        10.3   \n",
       "3     16152.0     16441.0     16271.0     16444.0     16380.0     16383.0   \n",
       "4        12.3        12.3        12.0        11.9        11.7        11.6   \n",
       "\n",
       "  Annual 2020  Annual 2021  Annual 2022  \n",
       "0    132174.0     136393.0     141673.0  \n",
       "1     14253.0      14012.0      14285.0  \n",
       "2        10.8         10.3         10.1  \n",
       "3     15939.0      15802.0      16002.0  \n",
       "4        12.1         11.6         11.3  \n",
       "\n",
       "[5 rows x 41 columns]"
      ]
     },
     "execution_count": 20,
     "metadata": {},
     "output_type": "execute_result"
    }
   ],
   "source": [
    "union.head()\n"
   ]
  },
  {
   "cell_type": "markdown",
   "id": "e0ee76aa",
   "metadata": {},
   "source": [
    "There are so many things wrong here that I don't know where to begin!  Maybe making each year a row, and stripping the \"Annual \" from them."
   ]
  },
  {
   "cell_type": "code",
   "execution_count": 21,
   "id": "57e3e84b",
   "metadata": {},
   "outputs": [],
   "source": [
    "union = union.transpose()"
   ]
  },
  {
   "cell_type": "code",
   "execution_count": 22,
   "id": "b3713a7f",
   "metadata": {},
   "outputs": [
    {
     "data": {
      "text/html": [
       "<div>\n",
       "<style scoped>\n",
       "    .dataframe tbody tr th:only-of-type {\n",
       "        vertical-align: middle;\n",
       "    }\n",
       "\n",
       "    .dataframe tbody tr th {\n",
       "        vertical-align: top;\n",
       "    }\n",
       "\n",
       "    .dataframe thead th {\n",
       "        text-align: right;\n",
       "    }\n",
       "</style>\n",
       "<table border=\"1\" class=\"dataframe\">\n",
       "  <thead>\n",
       "    <tr style=\"text-align: right;\">\n",
       "      <th></th>\n",
       "      <th>0</th>\n",
       "      <th>1</th>\n",
       "      <th>2</th>\n",
       "      <th>3</th>\n",
       "      <th>4</th>\n",
       "      <th>5</th>\n",
       "      <th>6</th>\n",
       "      <th>7</th>\n",
       "      <th>8</th>\n",
       "      <th>9</th>\n",
       "      <th>10</th>\n",
       "      <th>11</th>\n",
       "      <th>12</th>\n",
       "      <th>13</th>\n",
       "      <th>14</th>\n",
       "    </tr>\n",
       "  </thead>\n",
       "  <tbody>\n",
       "    <tr>\n",
       "      <th>Series ID</th>\n",
       "      <td>LUU0204466800</td>\n",
       "      <td>LUU0203161800</td>\n",
       "      <td>LUU0204899600</td>\n",
       "      <td>LUU0203161900</td>\n",
       "      <td>LUU0204899700</td>\n",
       "      <td>LUU0204466700</td>\n",
       "      <td>LUU0203182000</td>\n",
       "      <td>LUU0204906600</td>\n",
       "      <td>LUU0203182100</td>\n",
       "      <td>LUU0204906700</td>\n",
       "      <td>LUU0202851800</td>\n",
       "      <td>LUU0204922600</td>\n",
       "      <td>LUU0204922700</td>\n",
       "      <td>LUU0204922800</td>\n",
       "      <td>LUU0204922900</td>\n",
       "    </tr>\n",
       "    <tr>\n",
       "      <th>Annual 1983</th>\n",
       "      <td>88290</td>\n",
       "      <td>17717</td>\n",
       "      <td>20.1</td>\n",
       "      <td>20532</td>\n",
       "      <td>23.3</td>\n",
       "      <td>71225(5)</td>\n",
       "      <td>11933(5)</td>\n",
       "      <td>16.8(5)</td>\n",
       "      <td></td>\n",
       "      <td></td>\n",
       "      <td>15618(5)</td>\n",
       "      <td>5735(5)</td>\n",
       "      <td>36.7(5)</td>\n",
       "      <td></td>\n",
       "      <td></td>\n",
       "    </tr>\n",
       "    <tr>\n",
       "      <th>Annual 1984</th>\n",
       "      <td>92194</td>\n",
       "      <td>17340</td>\n",
       "      <td>18.8</td>\n",
       "      <td>19932</td>\n",
       "      <td>21.6</td>\n",
       "      <td>74931(5)</td>\n",
       "      <td>11647(5)</td>\n",
       "      <td>15.5(5)</td>\n",
       "      <td></td>\n",
       "      <td></td>\n",
       "      <td>15809(5)</td>\n",
       "      <td>5654(5)</td>\n",
       "      <td>35.8(5)</td>\n",
       "      <td></td>\n",
       "      <td></td>\n",
       "    </tr>\n",
       "    <tr>\n",
       "      <th>Annual 1985</th>\n",
       "      <td>94521</td>\n",
       "      <td>16996</td>\n",
       "      <td>18.0</td>\n",
       "      <td>19358</td>\n",
       "      <td>20.5</td>\n",
       "      <td>77044(5)</td>\n",
       "      <td>11227(5)</td>\n",
       "      <td>14.6(5)</td>\n",
       "      <td></td>\n",
       "      <td></td>\n",
       "      <td>16050(5)</td>\n",
       "      <td>5740(5)</td>\n",
       "      <td>35.8(5)</td>\n",
       "      <td></td>\n",
       "      <td></td>\n",
       "    </tr>\n",
       "    <tr>\n",
       "      <th>Annual 1986</th>\n",
       "      <td>96903</td>\n",
       "      <td>16975</td>\n",
       "      <td>17.5</td>\n",
       "      <td>19278</td>\n",
       "      <td>19.9</td>\n",
       "      <td>79091(5)</td>\n",
       "      <td>11051(5)</td>\n",
       "      <td>14.0(5)</td>\n",
       "      <td></td>\n",
       "      <td></td>\n",
       "      <td>16374(5)</td>\n",
       "      <td>5888(5)</td>\n",
       "      <td>36.0(5)</td>\n",
       "      <td></td>\n",
       "      <td></td>\n",
       "    </tr>\n",
       "  </tbody>\n",
       "</table>\n",
       "</div>"
      ],
      "text/plain": [
       "                        0              1              2              3   \\\n",
       "Series ID    LUU0204466800  LUU0203161800  LUU0204899600  LUU0203161900   \n",
       "Annual 1983          88290          17717           20.1          20532   \n",
       "Annual 1984          92194          17340           18.8          19932   \n",
       "Annual 1985          94521          16996           18.0          19358   \n",
       "Annual 1986          96903          16975           17.5          19278   \n",
       "\n",
       "                        4              5              6              7   \\\n",
       "Series ID    LUU0204899700  LUU0204466700  LUU0203182000  LUU0204906600   \n",
       "Annual 1983           23.3       71225(5)       11933(5)        16.8(5)   \n",
       "Annual 1984           21.6       74931(5)       11647(5)        15.5(5)   \n",
       "Annual 1985           20.5       77044(5)       11227(5)        14.6(5)   \n",
       "Annual 1986           19.9       79091(5)       11051(5)        14.0(5)   \n",
       "\n",
       "                        8              9              10             11  \\\n",
       "Series ID    LUU0203182100  LUU0204906700  LUU0202851800  LUU0204922600   \n",
       "Annual 1983                                     15618(5)        5735(5)   \n",
       "Annual 1984                                     15809(5)        5654(5)   \n",
       "Annual 1985                                     16050(5)        5740(5)   \n",
       "Annual 1986                                     16374(5)        5888(5)   \n",
       "\n",
       "                        12             13             14  \n",
       "Series ID    LUU0204922700  LUU0204922800  LUU0204922900  \n",
       "Annual 1983        36.7(5)                                \n",
       "Annual 1984        35.8(5)                                \n",
       "Annual 1985        35.8(5)                                \n",
       "Annual 1986        36.0(5)                                "
      ]
     },
     "execution_count": 22,
     "metadata": {},
     "output_type": "execute_result"
    }
   ],
   "source": [
    "union.head()"
   ]
  },
  {
   "cell_type": "code",
   "execution_count": 23,
   "id": "3e7bc433",
   "metadata": {},
   "outputs": [],
   "source": [
    "union.index = union.index.str.replace('Annual ','')\n"
   ]
  },
  {
   "cell_type": "code",
   "execution_count": 24,
   "id": "d3a96994",
   "metadata": {},
   "outputs": [
    {
     "data": {
      "text/plain": [
       "Index(['Series ID', '1983', '1984', '1985', '1986', '1987', '1988', '1989',\n",
       "       '1990', '1991', '1992', '1993', '1994', '1995', '1996', '1997', '1998',\n",
       "       '1999', '2000', '2001', '2002', '2003', '2004', '2005', '2006', '2007',\n",
       "       '2008', '2009', '2010', '2011', '2012', '2013', '2014', '2015', '2016',\n",
       "       '2017', '2018', '2019', '2020', '2021', '2022'],\n",
       "      dtype='object')"
      ]
     },
     "execution_count": 24,
     "metadata": {},
     "output_type": "execute_result"
    }
   ],
   "source": [
    "union.index"
   ]
  },
  {
   "cell_type": "code",
   "execution_count": 25,
   "id": "aa9a96ab",
   "metadata": {},
   "outputs": [
    {
     "data": {
      "text/html": [
       "<div>\n",
       "<style scoped>\n",
       "    .dataframe tbody tr th:only-of-type {\n",
       "        vertical-align: middle;\n",
       "    }\n",
       "\n",
       "    .dataframe tbody tr th {\n",
       "        vertical-align: top;\n",
       "    }\n",
       "\n",
       "    .dataframe thead th {\n",
       "        text-align: right;\n",
       "    }\n",
       "</style>\n",
       "<table border=\"1\" class=\"dataframe\">\n",
       "  <thead>\n",
       "    <tr style=\"text-align: right;\">\n",
       "      <th></th>\n",
       "      <th>0</th>\n",
       "      <th>1</th>\n",
       "      <th>2</th>\n",
       "      <th>3</th>\n",
       "      <th>4</th>\n",
       "      <th>5</th>\n",
       "      <th>6</th>\n",
       "      <th>7</th>\n",
       "      <th>8</th>\n",
       "      <th>9</th>\n",
       "      <th>10</th>\n",
       "      <th>11</th>\n",
       "      <th>12</th>\n",
       "      <th>13</th>\n",
       "      <th>14</th>\n",
       "    </tr>\n",
       "  </thead>\n",
       "  <tbody>\n",
       "    <tr>\n",
       "      <th>Series ID</th>\n",
       "      <td>LUU0204466800</td>\n",
       "      <td>LUU0203161800</td>\n",
       "      <td>LUU0204899600</td>\n",
       "      <td>LUU0203161900</td>\n",
       "      <td>LUU0204899700</td>\n",
       "      <td>LUU0204466700</td>\n",
       "      <td>LUU0203182000</td>\n",
       "      <td>LUU0204906600</td>\n",
       "      <td>LUU0203182100</td>\n",
       "      <td>LUU0204906700</td>\n",
       "      <td>LUU0202851800</td>\n",
       "      <td>LUU0204922600</td>\n",
       "      <td>LUU0204922700</td>\n",
       "      <td>LUU0204922800</td>\n",
       "      <td>LUU0204922900</td>\n",
       "    </tr>\n",
       "    <tr>\n",
       "      <th>1983</th>\n",
       "      <td>88290</td>\n",
       "      <td>17717</td>\n",
       "      <td>20.1</td>\n",
       "      <td>20532</td>\n",
       "      <td>23.3</td>\n",
       "      <td>71225(5)</td>\n",
       "      <td>11933(5)</td>\n",
       "      <td>16.8(5)</td>\n",
       "      <td></td>\n",
       "      <td></td>\n",
       "      <td>15618(5)</td>\n",
       "      <td>5735(5)</td>\n",
       "      <td>36.7(5)</td>\n",
       "      <td></td>\n",
       "      <td></td>\n",
       "    </tr>\n",
       "    <tr>\n",
       "      <th>1984</th>\n",
       "      <td>92194</td>\n",
       "      <td>17340</td>\n",
       "      <td>18.8</td>\n",
       "      <td>19932</td>\n",
       "      <td>21.6</td>\n",
       "      <td>74931(5)</td>\n",
       "      <td>11647(5)</td>\n",
       "      <td>15.5(5)</td>\n",
       "      <td></td>\n",
       "      <td></td>\n",
       "      <td>15809(5)</td>\n",
       "      <td>5654(5)</td>\n",
       "      <td>35.8(5)</td>\n",
       "      <td></td>\n",
       "      <td></td>\n",
       "    </tr>\n",
       "    <tr>\n",
       "      <th>1985</th>\n",
       "      <td>94521</td>\n",
       "      <td>16996</td>\n",
       "      <td>18.0</td>\n",
       "      <td>19358</td>\n",
       "      <td>20.5</td>\n",
       "      <td>77044(5)</td>\n",
       "      <td>11227(5)</td>\n",
       "      <td>14.6(5)</td>\n",
       "      <td></td>\n",
       "      <td></td>\n",
       "      <td>16050(5)</td>\n",
       "      <td>5740(5)</td>\n",
       "      <td>35.8(5)</td>\n",
       "      <td></td>\n",
       "      <td></td>\n",
       "    </tr>\n",
       "    <tr>\n",
       "      <th>1986</th>\n",
       "      <td>96903</td>\n",
       "      <td>16975</td>\n",
       "      <td>17.5</td>\n",
       "      <td>19278</td>\n",
       "      <td>19.9</td>\n",
       "      <td>79091(5)</td>\n",
       "      <td>11051(5)</td>\n",
       "      <td>14.0(5)</td>\n",
       "      <td></td>\n",
       "      <td></td>\n",
       "      <td>16374(5)</td>\n",
       "      <td>5888(5)</td>\n",
       "      <td>36.0(5)</td>\n",
       "      <td></td>\n",
       "      <td></td>\n",
       "    </tr>\n",
       "  </tbody>\n",
       "</table>\n",
       "</div>"
      ],
      "text/plain": [
       "                      0              1              2              3   \\\n",
       "Series ID  LUU0204466800  LUU0203161800  LUU0204899600  LUU0203161900   \n",
       "1983               88290          17717           20.1          20532   \n",
       "1984               92194          17340           18.8          19932   \n",
       "1985               94521          16996           18.0          19358   \n",
       "1986               96903          16975           17.5          19278   \n",
       "\n",
       "                      4              5              6              7   \\\n",
       "Series ID  LUU0204899700  LUU0204466700  LUU0203182000  LUU0204906600   \n",
       "1983                23.3       71225(5)       11933(5)        16.8(5)   \n",
       "1984                21.6       74931(5)       11647(5)        15.5(5)   \n",
       "1985                20.5       77044(5)       11227(5)        14.6(5)   \n",
       "1986                19.9       79091(5)       11051(5)        14.0(5)   \n",
       "\n",
       "                      8              9              10             11  \\\n",
       "Series ID  LUU0203182100  LUU0204906700  LUU0202851800  LUU0204922600   \n",
       "1983                                          15618(5)        5735(5)   \n",
       "1984                                          15809(5)        5654(5)   \n",
       "1985                                          16050(5)        5740(5)   \n",
       "1986                                          16374(5)        5888(5)   \n",
       "\n",
       "                      12             13             14  \n",
       "Series ID  LUU0204922700  LUU0204922800  LUU0204922900  \n",
       "1983             36.7(5)                                \n",
       "1984             35.8(5)                                \n",
       "1985             35.8(5)                                \n",
       "1986             36.0(5)                                "
      ]
     },
     "execution_count": 25,
     "metadata": {},
     "output_type": "execute_result"
    }
   ],
   "source": [
    "union.head()"
   ]
  },
  {
   "cell_type": "markdown",
   "id": "86f5ac93",
   "metadata": {},
   "source": [
    "Ok, this is still pretty awful.  Variables are using some legacy \"Series ID\" that needs translation, and then to be placed into column labels, and then I can delete that first row.  Also, there are some footnotes present that need to be scrubbed, which means that data types probably need correction too.  Again:  this wasn't _supposed_ to be a data wrangling exercise..."
   ]
  },
  {
   "cell_type": "code",
   "execution_count": 26,
   "id": "2945de33",
   "metadata": {},
   "outputs": [],
   "source": [
    "new_columns = [\"EmpWorkers\", \"EmpUnion\", \"UnionPct\", \"UnionRepr\", \"ReprPct\", \"EmpPrivate\", \"UnionPrivate\", \n",
    "               \"UnionPrivatePct\", \"PrivateRepr\", \"PrivateReprPct\", \"EmpPublic\", \"UnionPublic\", \"UnionPublicPct\", \n",
    "              \"PublicRepr\", \"PublicReprPct\"]\n"
   ]
  },
  {
   "cell_type": "code",
   "execution_count": 27,
   "id": "247c7a1c",
   "metadata": {},
   "outputs": [],
   "source": [
    "union.columns = new_columns"
   ]
  },
  {
   "cell_type": "code",
   "execution_count": 28,
   "id": "80e14c01",
   "metadata": {},
   "outputs": [
    {
     "data": {
      "text/html": [
       "<div>\n",
       "<style scoped>\n",
       "    .dataframe tbody tr th:only-of-type {\n",
       "        vertical-align: middle;\n",
       "    }\n",
       "\n",
       "    .dataframe tbody tr th {\n",
       "        vertical-align: top;\n",
       "    }\n",
       "\n",
       "    .dataframe thead th {\n",
       "        text-align: right;\n",
       "    }\n",
       "</style>\n",
       "<table border=\"1\" class=\"dataframe\">\n",
       "  <thead>\n",
       "    <tr style=\"text-align: right;\">\n",
       "      <th></th>\n",
       "      <th>EmpWorkers</th>\n",
       "      <th>EmpUnion</th>\n",
       "      <th>UnionPct</th>\n",
       "      <th>UnionRepr</th>\n",
       "      <th>ReprPct</th>\n",
       "      <th>EmpPrivate</th>\n",
       "      <th>UnionPrivate</th>\n",
       "      <th>UnionPrivatePct</th>\n",
       "      <th>PrivateRepr</th>\n",
       "      <th>PrivateReprPct</th>\n",
       "      <th>EmpPublic</th>\n",
       "      <th>UnionPublic</th>\n",
       "      <th>UnionPublicPct</th>\n",
       "      <th>PublicRepr</th>\n",
       "      <th>PublicReprPct</th>\n",
       "    </tr>\n",
       "  </thead>\n",
       "  <tbody>\n",
       "    <tr>\n",
       "      <th>Series ID</th>\n",
       "      <td>LUU0204466800</td>\n",
       "      <td>LUU0203161800</td>\n",
       "      <td>LUU0204899600</td>\n",
       "      <td>LUU0203161900</td>\n",
       "      <td>LUU0204899700</td>\n",
       "      <td>LUU0204466700</td>\n",
       "      <td>LUU0203182000</td>\n",
       "      <td>LUU0204906600</td>\n",
       "      <td>LUU0203182100</td>\n",
       "      <td>LUU0204906700</td>\n",
       "      <td>LUU0202851800</td>\n",
       "      <td>LUU0204922600</td>\n",
       "      <td>LUU0204922700</td>\n",
       "      <td>LUU0204922800</td>\n",
       "      <td>LUU0204922900</td>\n",
       "    </tr>\n",
       "    <tr>\n",
       "      <th>1983</th>\n",
       "      <td>88290</td>\n",
       "      <td>17717</td>\n",
       "      <td>20.1</td>\n",
       "      <td>20532</td>\n",
       "      <td>23.3</td>\n",
       "      <td>71225(5)</td>\n",
       "      <td>11933(5)</td>\n",
       "      <td>16.8(5)</td>\n",
       "      <td></td>\n",
       "      <td></td>\n",
       "      <td>15618(5)</td>\n",
       "      <td>5735(5)</td>\n",
       "      <td>36.7(5)</td>\n",
       "      <td></td>\n",
       "      <td></td>\n",
       "    </tr>\n",
       "    <tr>\n",
       "      <th>1984</th>\n",
       "      <td>92194</td>\n",
       "      <td>17340</td>\n",
       "      <td>18.8</td>\n",
       "      <td>19932</td>\n",
       "      <td>21.6</td>\n",
       "      <td>74931(5)</td>\n",
       "      <td>11647(5)</td>\n",
       "      <td>15.5(5)</td>\n",
       "      <td></td>\n",
       "      <td></td>\n",
       "      <td>15809(5)</td>\n",
       "      <td>5654(5)</td>\n",
       "      <td>35.8(5)</td>\n",
       "      <td></td>\n",
       "      <td></td>\n",
       "    </tr>\n",
       "    <tr>\n",
       "      <th>1985</th>\n",
       "      <td>94521</td>\n",
       "      <td>16996</td>\n",
       "      <td>18.0</td>\n",
       "      <td>19358</td>\n",
       "      <td>20.5</td>\n",
       "      <td>77044(5)</td>\n",
       "      <td>11227(5)</td>\n",
       "      <td>14.6(5)</td>\n",
       "      <td></td>\n",
       "      <td></td>\n",
       "      <td>16050(5)</td>\n",
       "      <td>5740(5)</td>\n",
       "      <td>35.8(5)</td>\n",
       "      <td></td>\n",
       "      <td></td>\n",
       "    </tr>\n",
       "    <tr>\n",
       "      <th>1986</th>\n",
       "      <td>96903</td>\n",
       "      <td>16975</td>\n",
       "      <td>17.5</td>\n",
       "      <td>19278</td>\n",
       "      <td>19.9</td>\n",
       "      <td>79091(5)</td>\n",
       "      <td>11051(5)</td>\n",
       "      <td>14.0(5)</td>\n",
       "      <td></td>\n",
       "      <td></td>\n",
       "      <td>16374(5)</td>\n",
       "      <td>5888(5)</td>\n",
       "      <td>36.0(5)</td>\n",
       "      <td></td>\n",
       "      <td></td>\n",
       "    </tr>\n",
       "  </tbody>\n",
       "</table>\n",
       "</div>"
      ],
      "text/plain": [
       "              EmpWorkers       EmpUnion       UnionPct      UnionRepr  \\\n",
       "Series ID  LUU0204466800  LUU0203161800  LUU0204899600  LUU0203161900   \n",
       "1983               88290          17717           20.1          20532   \n",
       "1984               92194          17340           18.8          19932   \n",
       "1985               94521          16996           18.0          19358   \n",
       "1986               96903          16975           17.5          19278   \n",
       "\n",
       "                 ReprPct     EmpPrivate   UnionPrivate UnionPrivatePct  \\\n",
       "Series ID  LUU0204899700  LUU0204466700  LUU0203182000   LUU0204906600   \n",
       "1983                23.3       71225(5)       11933(5)         16.8(5)   \n",
       "1984                21.6       74931(5)       11647(5)         15.5(5)   \n",
       "1985                20.5       77044(5)       11227(5)         14.6(5)   \n",
       "1986                19.9       79091(5)       11051(5)         14.0(5)   \n",
       "\n",
       "             PrivateRepr PrivateReprPct      EmpPublic    UnionPublic  \\\n",
       "Series ID  LUU0203182100  LUU0204906700  LUU0202851800  LUU0204922600   \n",
       "1983                                          15618(5)        5735(5)   \n",
       "1984                                          15809(5)        5654(5)   \n",
       "1985                                          16050(5)        5740(5)   \n",
       "1986                                          16374(5)        5888(5)   \n",
       "\n",
       "          UnionPublicPct     PublicRepr  PublicReprPct  \n",
       "Series ID  LUU0204922700  LUU0204922800  LUU0204922900  \n",
       "1983             36.7(5)                                \n",
       "1984             35.8(5)                                \n",
       "1985             35.8(5)                                \n",
       "1986             36.0(5)                                "
      ]
     },
     "execution_count": 28,
     "metadata": {},
     "output_type": "execute_result"
    }
   ],
   "source": [
    "union.head()"
   ]
  },
  {
   "cell_type": "code",
   "execution_count": 29,
   "id": "aa648121",
   "metadata": {},
   "outputs": [],
   "source": [
    "union.drop(union.index[0], inplace=True)"
   ]
  },
  {
   "cell_type": "code",
   "execution_count": 32,
   "id": "c48a8e24",
   "metadata": {},
   "outputs": [
    {
     "data": {
      "text/html": [
       "<div>\n",
       "<style scoped>\n",
       "    .dataframe tbody tr th:only-of-type {\n",
       "        vertical-align: middle;\n",
       "    }\n",
       "\n",
       "    .dataframe tbody tr th {\n",
       "        vertical-align: top;\n",
       "    }\n",
       "\n",
       "    .dataframe thead th {\n",
       "        text-align: right;\n",
       "    }\n",
       "</style>\n",
       "<table border=\"1\" class=\"dataframe\">\n",
       "  <thead>\n",
       "    <tr style=\"text-align: right;\">\n",
       "      <th></th>\n",
       "      <th>EmpWorkers</th>\n",
       "      <th>EmpUnion</th>\n",
       "      <th>UnionPct</th>\n",
       "      <th>UnionRepr</th>\n",
       "      <th>ReprPct</th>\n",
       "      <th>EmpPrivate</th>\n",
       "      <th>UnionPrivate</th>\n",
       "      <th>UnionPrivatePct</th>\n",
       "      <th>PrivateRepr</th>\n",
       "      <th>PrivateReprPct</th>\n",
       "      <th>EmpPublic</th>\n",
       "      <th>UnionPublic</th>\n",
       "      <th>UnionPublicPct</th>\n",
       "      <th>PublicRepr</th>\n",
       "      <th>PublicReprPct</th>\n",
       "    </tr>\n",
       "  </thead>\n",
       "  <tbody>\n",
       "    <tr>\n",
       "      <th>1983</th>\n",
       "      <td>88290</td>\n",
       "      <td>17717</td>\n",
       "      <td>20.1</td>\n",
       "      <td>20532</td>\n",
       "      <td>23.3</td>\n",
       "      <td>71225(5)</td>\n",
       "      <td>11933(5)</td>\n",
       "      <td>16.8(5)</td>\n",
       "      <td></td>\n",
       "      <td></td>\n",
       "      <td>15618(5)</td>\n",
       "      <td>5735(5)</td>\n",
       "      <td>36.7(5)</td>\n",
       "      <td></td>\n",
       "      <td></td>\n",
       "    </tr>\n",
       "    <tr>\n",
       "      <th>1984</th>\n",
       "      <td>92194</td>\n",
       "      <td>17340</td>\n",
       "      <td>18.8</td>\n",
       "      <td>19932</td>\n",
       "      <td>21.6</td>\n",
       "      <td>74931(5)</td>\n",
       "      <td>11647(5)</td>\n",
       "      <td>15.5(5)</td>\n",
       "      <td></td>\n",
       "      <td></td>\n",
       "      <td>15809(5)</td>\n",
       "      <td>5654(5)</td>\n",
       "      <td>35.8(5)</td>\n",
       "      <td></td>\n",
       "      <td></td>\n",
       "    </tr>\n",
       "    <tr>\n",
       "      <th>1985</th>\n",
       "      <td>94521</td>\n",
       "      <td>16996</td>\n",
       "      <td>18.0</td>\n",
       "      <td>19358</td>\n",
       "      <td>20.5</td>\n",
       "      <td>77044(5)</td>\n",
       "      <td>11227(5)</td>\n",
       "      <td>14.6(5)</td>\n",
       "      <td></td>\n",
       "      <td></td>\n",
       "      <td>16050(5)</td>\n",
       "      <td>5740(5)</td>\n",
       "      <td>35.8(5)</td>\n",
       "      <td></td>\n",
       "      <td></td>\n",
       "    </tr>\n",
       "    <tr>\n",
       "      <th>1986</th>\n",
       "      <td>96903</td>\n",
       "      <td>16975</td>\n",
       "      <td>17.5</td>\n",
       "      <td>19278</td>\n",
       "      <td>19.9</td>\n",
       "      <td>79091(5)</td>\n",
       "      <td>11051(5)</td>\n",
       "      <td>14.0(5)</td>\n",
       "      <td></td>\n",
       "      <td></td>\n",
       "      <td>16374(5)</td>\n",
       "      <td>5888(5)</td>\n",
       "      <td>36.0(5)</td>\n",
       "      <td></td>\n",
       "      <td></td>\n",
       "    </tr>\n",
       "    <tr>\n",
       "      <th>1987</th>\n",
       "      <td>99303</td>\n",
       "      <td>16913</td>\n",
       "      <td>17.0</td>\n",
       "      <td>19051</td>\n",
       "      <td>19.2</td>\n",
       "      <td>80993(5)</td>\n",
       "      <td>10826(5)</td>\n",
       "      <td>13.4(5)</td>\n",
       "      <td></td>\n",
       "      <td></td>\n",
       "      <td>16841(5)</td>\n",
       "      <td>6055(5)</td>\n",
       "      <td>36.0(5)</td>\n",
       "      <td></td>\n",
       "      <td></td>\n",
       "    </tr>\n",
       "  </tbody>\n",
       "</table>\n",
       "</div>"
      ],
      "text/plain": [
       "     EmpWorkers EmpUnion UnionPct UnionRepr ReprPct EmpPrivate UnionPrivate  \\\n",
       "1983      88290    17717     20.1     20532    23.3   71225(5)     11933(5)   \n",
       "1984      92194    17340     18.8     19932    21.6   74931(5)     11647(5)   \n",
       "1985      94521    16996     18.0     19358    20.5   77044(5)     11227(5)   \n",
       "1986      96903    16975     17.5     19278    19.9   79091(5)     11051(5)   \n",
       "1987      99303    16913     17.0     19051    19.2   80993(5)     10826(5)   \n",
       "\n",
       "     UnionPrivatePct PrivateRepr PrivateReprPct EmpPublic UnionPublic  \\\n",
       "1983         16.8(5)                             15618(5)     5735(5)   \n",
       "1984         15.5(5)                             15809(5)     5654(5)   \n",
       "1985         14.6(5)                             16050(5)     5740(5)   \n",
       "1986         14.0(5)                             16374(5)     5888(5)   \n",
       "1987         13.4(5)                             16841(5)     6055(5)   \n",
       "\n",
       "     UnionPublicPct PublicRepr PublicReprPct  \n",
       "1983        36.7(5)                           \n",
       "1984        35.8(5)                           \n",
       "1985        35.8(5)                           \n",
       "1986        36.0(5)                           \n",
       "1987        36.0(5)                           "
      ]
     },
     "execution_count": 32,
     "metadata": {},
     "output_type": "execute_result"
    }
   ],
   "source": [
    "union.head()"
   ]
  },
  {
   "cell_type": "markdown",
   "id": "07180166",
   "metadata": {},
   "source": [
    "Now, there are several variables with footnotes; the only one I note is footnote (5).  From the raw output from the BLS data query:\n",
    "    \n",
    "    \n",
    "5 : 1983-99 estimates exclude agricultural workers; as a result, 1983-99 private and government estimates will not sum to total.\n",
    "\n",
    "This is unfortunate, and complicates any observations, but for now, let me just try to remove the footnotes and correct for data type."
   ]
  },
  {
   "cell_type": "code",
   "execution_count": 36,
   "id": "8b2b76b1",
   "metadata": {},
   "outputs": [
    {
     "data": {
      "text/plain": [
       "'15618(5)'"
      ]
     },
     "execution_count": 36,
     "metadata": {},
     "output_type": "execute_result"
    }
   ],
   "source": [
    "t = union[\"EmpPublic\"][0]\n",
    "t"
   ]
  },
  {
   "cell_type": "code",
   "execution_count": 45,
   "id": "8b70b0df",
   "metadata": {},
   "outputs": [
    {
     "data": {
      "text/plain": [
       "'15618'"
      ]
     },
     "execution_count": 45,
     "metadata": {},
     "output_type": "execute_result"
    }
   ],
   "source": [
    "t = re.sub(\"\\(5\\)\", \"\", t)\n",
    "t"
   ]
  },
  {
   "cell_type": "code",
   "execution_count": 59,
   "id": "5226fe5e",
   "metadata": {},
   "outputs": [
    {
     "data": {
      "text/plain": [
       "'18339'"
      ]
     },
     "execution_count": 59,
     "metadata": {},
     "output_type": "execute_result"
    }
   ],
   "source": [
    "def dropnotes(x):\n",
    "    return re.sub(\"\\(5\\)\", \"\", x)\n",
    "\n",
    "t = union[\"EmpPublic\"][11]\n",
    "dropnotes(t)"
   ]
  },
  {
   "cell_type": "code",
   "execution_count": 85,
   "id": "0566e5e9",
   "metadata": {},
   "outputs": [],
   "source": [
    "try1 = [dropnotes(str(x)) for x in union[\"EmpPublic\"]]"
   ]
  },
  {
   "cell_type": "code",
   "execution_count": 87,
   "id": "bb1fc9c3",
   "metadata": {},
   "outputs": [
    {
     "data": {
      "text/plain": [
       "['15618',\n",
       " '15809',\n",
       " '16050',\n",
       " '16374',\n",
       " '16841',\n",
       " '17175',\n",
       " '17476',\n",
       " '17791',\n",
       " '18010',\n",
       " '18193',\n",
       " '18691',\n",
       " '18339',\n",
       " '18342',\n",
       " '18191',\n",
       " '18147',\n",
       " '18401',\n",
       " '18938',\n",
       " '19261.0',\n",
       " '19454.0',\n",
       " '19673.0',\n",
       " '19710.0',\n",
       " '19970.0',\n",
       " '20381.0',\n",
       " '20392.0',\n",
       " '21053.0',\n",
       " '21305.0',\n",
       " '21133.0',\n",
       " '21033.0',\n",
       " '20450.0',\n",
       " '20385.0',\n",
       " '20429.0',\n",
       " '20203.0',\n",
       " '20591.0',\n",
       " '20684.0',\n",
       " '20956.0',\n",
       " '21131.0',\n",
       " '21023.0',\n",
       " '20632.0',\n",
       " '20626.0',\n",
       " '21318.0']"
      ]
     },
     "execution_count": 87,
     "metadata": {},
     "output_type": "execute_result"
    }
   ],
   "source": [
    "try1"
   ]
  },
  {
   "cell_type": "code",
   "execution_count": 79,
   "id": "968c7685",
   "metadata": {},
   "outputs": [
    {
     "ename": "TypeError",
     "evalue": "expected string or bytes-like object",
     "output_type": "error",
     "traceback": [
      "\u001b[1;31m---------------------------------------------------------------------------\u001b[0m",
      "\u001b[1;31mTypeError\u001b[0m                                 Traceback (most recent call last)",
      "\u001b[1;32m~\\AppData\\Local\\Temp/ipykernel_2484/2944700802.py\u001b[0m in \u001b[0;36m<module>\u001b[1;34m\u001b[0m\n\u001b[1;32m----> 1\u001b[1;33m \u001b[0mlist\u001b[0m\u001b[1;33m(\u001b[0m\u001b[0mw\u001b[0m\u001b[1;33m)\u001b[0m\u001b[1;33m\u001b[0m\u001b[1;33m\u001b[0m\u001b[0m\n\u001b[0m",
      "\u001b[1;32m~\\AppData\\Local\\Temp/ipykernel_2484/1402159890.py\u001b[0m in \u001b[0;36m<lambda>\u001b[1;34m(x)\u001b[0m\n\u001b[0;32m      1\u001b[0m \u001b[0mv\u001b[0m \u001b[1;33m=\u001b[0m \u001b[0mlist\u001b[0m\u001b[1;33m(\u001b[0m\u001b[0munion\u001b[0m\u001b[1;33m[\u001b[0m\u001b[1;34m\"EmpPublic\"\u001b[0m\u001b[1;33m]\u001b[0m\u001b[1;33m)\u001b[0m\u001b[1;33m\u001b[0m\u001b[1;33m\u001b[0m\u001b[0m\n\u001b[1;32m----> 2\u001b[1;33m \u001b[0mw\u001b[0m \u001b[1;33m=\u001b[0m \u001b[0mmap\u001b[0m\u001b[1;33m(\u001b[0m\u001b[1;32mlambda\u001b[0m \u001b[0mx\u001b[0m\u001b[1;33m:\u001b[0m \u001b[0mdropnotes\u001b[0m\u001b[1;33m(\u001b[0m\u001b[0mx\u001b[0m\u001b[1;33m)\u001b[0m\u001b[1;33m,\u001b[0m \u001b[0mv\u001b[0m\u001b[1;33m)\u001b[0m\u001b[1;33m\u001b[0m\u001b[1;33m\u001b[0m\u001b[0m\n\u001b[0m",
      "\u001b[1;32m~\\AppData\\Local\\Temp/ipykernel_2484/3396796080.py\u001b[0m in \u001b[0;36mdropnotes\u001b[1;34m(x)\u001b[0m\n\u001b[0;32m      1\u001b[0m \u001b[1;32mdef\u001b[0m \u001b[0mdropnotes\u001b[0m\u001b[1;33m(\u001b[0m\u001b[0mx\u001b[0m\u001b[1;33m)\u001b[0m\u001b[1;33m:\u001b[0m\u001b[1;33m\u001b[0m\u001b[1;33m\u001b[0m\u001b[0m\n\u001b[1;32m----> 2\u001b[1;33m     \u001b[1;32mreturn\u001b[0m \u001b[0mre\u001b[0m\u001b[1;33m.\u001b[0m\u001b[0msub\u001b[0m\u001b[1;33m(\u001b[0m\u001b[1;34m\"\\(5\\)\"\u001b[0m\u001b[1;33m,\u001b[0m \u001b[1;34m\"\"\u001b[0m\u001b[1;33m,\u001b[0m \u001b[0mx\u001b[0m\u001b[1;33m)\u001b[0m\u001b[1;33m\u001b[0m\u001b[1;33m\u001b[0m\u001b[0m\n\u001b[0m\u001b[0;32m      3\u001b[0m \u001b[1;33m\u001b[0m\u001b[0m\n\u001b[0;32m      4\u001b[0m \u001b[0mt\u001b[0m \u001b[1;33m=\u001b[0m \u001b[0munion\u001b[0m\u001b[1;33m[\u001b[0m\u001b[1;34m\"EmpPublic\"\u001b[0m\u001b[1;33m]\u001b[0m\u001b[1;33m[\u001b[0m\u001b[1;36m11\u001b[0m\u001b[1;33m]\u001b[0m\u001b[1;33m\u001b[0m\u001b[1;33m\u001b[0m\u001b[0m\n\u001b[0;32m      5\u001b[0m \u001b[0mdropnotes\u001b[0m\u001b[1;33m(\u001b[0m\u001b[0mt\u001b[0m\u001b[1;33m)\u001b[0m\u001b[1;33m\u001b[0m\u001b[1;33m\u001b[0m\u001b[0m\n",
      "\u001b[1;32mC:\\ProgramData\\Anaconda3\\lib\\re.py\u001b[0m in \u001b[0;36msub\u001b[1;34m(pattern, repl, string, count, flags)\u001b[0m\n\u001b[0;32m    208\u001b[0m     \u001b[0ma\u001b[0m \u001b[0mcallable\u001b[0m\u001b[1;33m,\u001b[0m \u001b[0mit\u001b[0m\u001b[0;31m'\u001b[0m\u001b[0ms\u001b[0m \u001b[0mpassed\u001b[0m \u001b[0mthe\u001b[0m \u001b[0mMatch\u001b[0m \u001b[0mobject\u001b[0m \u001b[1;32mand\u001b[0m \u001b[0mmust\u001b[0m \u001b[1;32mreturn\u001b[0m\u001b[1;33m\u001b[0m\u001b[1;33m\u001b[0m\u001b[0m\n\u001b[0;32m    209\u001b[0m     a replacement string to be used.\"\"\"\n\u001b[1;32m--> 210\u001b[1;33m     \u001b[1;32mreturn\u001b[0m \u001b[0m_compile\u001b[0m\u001b[1;33m(\u001b[0m\u001b[0mpattern\u001b[0m\u001b[1;33m,\u001b[0m \u001b[0mflags\u001b[0m\u001b[1;33m)\u001b[0m\u001b[1;33m.\u001b[0m\u001b[0msub\u001b[0m\u001b[1;33m(\u001b[0m\u001b[0mrepl\u001b[0m\u001b[1;33m,\u001b[0m \u001b[0mstring\u001b[0m\u001b[1;33m,\u001b[0m \u001b[0mcount\u001b[0m\u001b[1;33m)\u001b[0m\u001b[1;33m\u001b[0m\u001b[1;33m\u001b[0m\u001b[0m\n\u001b[0m\u001b[0;32m    211\u001b[0m \u001b[1;33m\u001b[0m\u001b[0m\n\u001b[0;32m    212\u001b[0m \u001b[1;32mdef\u001b[0m \u001b[0msubn\u001b[0m\u001b[1;33m(\u001b[0m\u001b[0mpattern\u001b[0m\u001b[1;33m,\u001b[0m \u001b[0mrepl\u001b[0m\u001b[1;33m,\u001b[0m \u001b[0mstring\u001b[0m\u001b[1;33m,\u001b[0m \u001b[0mcount\u001b[0m\u001b[1;33m=\u001b[0m\u001b[1;36m0\u001b[0m\u001b[1;33m,\u001b[0m \u001b[0mflags\u001b[0m\u001b[1;33m=\u001b[0m\u001b[1;36m0\u001b[0m\u001b[1;33m)\u001b[0m\u001b[1;33m:\u001b[0m\u001b[1;33m\u001b[0m\u001b[1;33m\u001b[0m\u001b[0m\n",
      "\u001b[1;31mTypeError\u001b[0m: expected string or bytes-like object"
     ]
    }
   ],
   "source": [
    "list(w)"
   ]
  },
  {
   "cell_type": "code",
   "execution_count": 58,
   "id": "899f93fd",
   "metadata": {},
   "outputs": [
    {
     "ename": "TypeError",
     "evalue": "expected string or bytes-like object",
     "output_type": "error",
     "traceback": [
      "\u001b[1;31m---------------------------------------------------------------------------\u001b[0m",
      "\u001b[1;31mTypeError\u001b[0m                                 Traceback (most recent call last)",
      "\u001b[1;32m~\\AppData\\Local\\Temp/ipykernel_2484/1134649274.py\u001b[0m in \u001b[0;36m<module>\u001b[1;34m\u001b[0m\n\u001b[0;32m      7\u001b[0m \u001b[1;32mfor\u001b[0m \u001b[0mcol\u001b[0m \u001b[1;32min\u001b[0m \u001b[0mfootnotecols\u001b[0m\u001b[1;33m:\u001b[0m\u001b[1;33m\u001b[0m\u001b[1;33m\u001b[0m\u001b[0m\n\u001b[0;32m      8\u001b[0m     \u001b[0mt\u001b[0m \u001b[1;33m=\u001b[0m \u001b[0mlist\u001b[0m\u001b[1;33m(\u001b[0m\u001b[0munion\u001b[0m\u001b[1;33m[\u001b[0m\u001b[0mcol\u001b[0m\u001b[1;33m]\u001b[0m\u001b[1;33m)\u001b[0m\u001b[1;33m\u001b[0m\u001b[1;33m\u001b[0m\u001b[0m\n\u001b[1;32m----> 9\u001b[1;33m     \u001b[0mt\u001b[0m \u001b[1;33m=\u001b[0m \u001b[0mdropnotes\u001b[0m\u001b[1;33m(\u001b[0m\u001b[0mt\u001b[0m\u001b[1;33m)\u001b[0m\u001b[1;33m\u001b[0m\u001b[1;33m\u001b[0m\u001b[0m\n\u001b[0m\u001b[0;32m     10\u001b[0m     \u001b[0munion\u001b[0m\u001b[1;33m[\u001b[0m\u001b[0mcol\u001b[0m\u001b[1;33m]\u001b[0m \u001b[1;33m=\u001b[0m \u001b[0mpd\u001b[0m\u001b[1;33m.\u001b[0m\u001b[0mSeries\u001b[0m\u001b[1;33m(\u001b[0m\u001b[0mt\u001b[0m\u001b[1;33m)\u001b[0m\u001b[1;33m\u001b[0m\u001b[1;33m\u001b[0m\u001b[0m\n",
      "\u001b[1;32m~\\AppData\\Local\\Temp/ipykernel_2484/1134649274.py\u001b[0m in \u001b[0;36mdropnotes\u001b[1;34m(x)\u001b[0m\n\u001b[0;32m      1\u001b[0m \u001b[1;31m# ok, per Jeremy's suggestion, let's make a function out of this:\u001b[0m\u001b[1;33m\u001b[0m\u001b[1;33m\u001b[0m\u001b[0m\n\u001b[0;32m      2\u001b[0m \u001b[1;32mdef\u001b[0m \u001b[0mdropnotes\u001b[0m\u001b[1;33m(\u001b[0m\u001b[0mx\u001b[0m\u001b[1;33m)\u001b[0m\u001b[1;33m:\u001b[0m\u001b[1;33m\u001b[0m\u001b[1;33m\u001b[0m\u001b[0m\n\u001b[1;32m----> 3\u001b[1;33m     \u001b[1;32mreturn\u001b[0m \u001b[0mre\u001b[0m\u001b[1;33m.\u001b[0m\u001b[0msub\u001b[0m\u001b[1;33m(\u001b[0m\u001b[1;34m\"\\(5\\)\"\u001b[0m\u001b[1;33m,\u001b[0m \u001b[1;34m\"\"\u001b[0m\u001b[1;33m,\u001b[0m \u001b[0mx\u001b[0m\u001b[1;33m)\u001b[0m\u001b[1;33m\u001b[0m\u001b[1;33m\u001b[0m\u001b[0m\n\u001b[0m\u001b[0;32m      4\u001b[0m \u001b[1;33m\u001b[0m\u001b[0m\n\u001b[0;32m      5\u001b[0m \u001b[0mfootnotecols\u001b[0m\u001b[1;33m=\u001b[0m\u001b[1;33m[\u001b[0m\u001b[1;34m\"EmpPrivate\"\u001b[0m\u001b[1;33m,\u001b[0m \u001b[1;34m\"UnionPrivate\"\u001b[0m\u001b[1;33m,\u001b[0m \u001b[1;34m\"UnionPrivatePct\"\u001b[0m\u001b[1;33m,\u001b[0m \u001b[1;34m\"EmpPublic\"\u001b[0m\u001b[1;33m,\u001b[0m \u001b[1;34m\"UnionPublic\"\u001b[0m\u001b[1;33m,\u001b[0m \u001b[1;34m\"UnionPublicPct\"\u001b[0m\u001b[1;33m]\u001b[0m\u001b[1;33m\u001b[0m\u001b[1;33m\u001b[0m\u001b[0m\n",
      "\u001b[1;32mC:\\ProgramData\\Anaconda3\\lib\\re.py\u001b[0m in \u001b[0;36msub\u001b[1;34m(pattern, repl, string, count, flags)\u001b[0m\n\u001b[0;32m    208\u001b[0m     \u001b[0ma\u001b[0m \u001b[0mcallable\u001b[0m\u001b[1;33m,\u001b[0m \u001b[0mit\u001b[0m\u001b[0;31m'\u001b[0m\u001b[0ms\u001b[0m \u001b[0mpassed\u001b[0m \u001b[0mthe\u001b[0m \u001b[0mMatch\u001b[0m \u001b[0mobject\u001b[0m \u001b[1;32mand\u001b[0m \u001b[0mmust\u001b[0m \u001b[1;32mreturn\u001b[0m\u001b[1;33m\u001b[0m\u001b[1;33m\u001b[0m\u001b[0m\n\u001b[0;32m    209\u001b[0m     a replacement string to be used.\"\"\"\n\u001b[1;32m--> 210\u001b[1;33m     \u001b[1;32mreturn\u001b[0m \u001b[0m_compile\u001b[0m\u001b[1;33m(\u001b[0m\u001b[0mpattern\u001b[0m\u001b[1;33m,\u001b[0m \u001b[0mflags\u001b[0m\u001b[1;33m)\u001b[0m\u001b[1;33m.\u001b[0m\u001b[0msub\u001b[0m\u001b[1;33m(\u001b[0m\u001b[0mrepl\u001b[0m\u001b[1;33m,\u001b[0m \u001b[0mstring\u001b[0m\u001b[1;33m,\u001b[0m \u001b[0mcount\u001b[0m\u001b[1;33m)\u001b[0m\u001b[1;33m\u001b[0m\u001b[1;33m\u001b[0m\u001b[0m\n\u001b[0m\u001b[0;32m    211\u001b[0m \u001b[1;33m\u001b[0m\u001b[0m\n\u001b[0;32m    212\u001b[0m \u001b[1;32mdef\u001b[0m \u001b[0msubn\u001b[0m\u001b[1;33m(\u001b[0m\u001b[0mpattern\u001b[0m\u001b[1;33m,\u001b[0m \u001b[0mrepl\u001b[0m\u001b[1;33m,\u001b[0m \u001b[0mstring\u001b[0m\u001b[1;33m,\u001b[0m \u001b[0mcount\u001b[0m\u001b[1;33m=\u001b[0m\u001b[1;36m0\u001b[0m\u001b[1;33m,\u001b[0m \u001b[0mflags\u001b[0m\u001b[1;33m=\u001b[0m\u001b[1;36m0\u001b[0m\u001b[1;33m)\u001b[0m\u001b[1;33m:\u001b[0m\u001b[1;33m\u001b[0m\u001b[1;33m\u001b[0m\u001b[0m\n",
      "\u001b[1;31mTypeError\u001b[0m: expected string or bytes-like object"
     ]
    }
   ],
   "source": [
    "# ok, per Jeremy's suggestion, let's make a function out of this:\n",
    "def dropnotes(x):\n",
    "    return re.sub(\"\\(5\\)\", \"\", x)\n",
    "\n",
    "footnotecols=[\"EmpPrivate\", \"UnionPrivate\", \"UnionPrivatePct\", \"EmpPublic\", \"UnionPublic\", \"UnionPublicPct\"]\n",
    "\n",
    "for col in footnotecols:\n",
    "    t = list(union[col])\n",
    "    t = dropnotes(t)\n",
    "    union[col] = pd.Series(t)"
   ]
  },
  {
   "cell_type": "code",
   "execution_count": null,
   "id": "026f948a",
   "metadata": {},
   "outputs": [],
   "source": []
  }
 ],
 "metadata": {
  "kernelspec": {
   "display_name": "Python 3 (ipykernel)",
   "language": "python",
   "name": "python3"
  },
  "language_info": {
   "codemirror_mode": {
    "name": "ipython",
    "version": 3
   },
   "file_extension": ".py",
   "mimetype": "text/x-python",
   "name": "python",
   "nbconvert_exporter": "python",
   "pygments_lexer": "ipython3",
   "version": "3.13.5"
  }
 },
 "nbformat": 4,
 "nbformat_minor": 5
}
